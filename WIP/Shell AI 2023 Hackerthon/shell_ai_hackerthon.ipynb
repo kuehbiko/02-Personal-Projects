{
 "cells": [
  {
   "cell_type": "code",
   "execution_count": null,
   "id": "803aa00e",
   "metadata": {},
   "outputs": [],
   "source": [
    "# import libraries"
   ]
  },
  {
   "cell_type": "code",
   "execution_count": null,
   "id": "518b6cfe",
   "metadata": {},
   "outputs": [],
   "source": [
    "# read data\n",
    "biomass_history_df = pd.read_csv('/dataset/Biomass_History.csv')\n",
    "distance_matrix_df = pd.read_csv('/dataset/Distance_Matrix.csv')"
   ]
  }
 ],
 "metadata": {
  "kernelspec": {
   "display_name": "Python 3 (ipykernel)",
   "language": "python",
   "name": "python3"
  },
  "language_info": {
   "codemirror_mode": {
    "name": "ipython",
    "version": 3
   },
   "file_extension": ".py",
   "mimetype": "text/x-python",
   "name": "python",
   "nbconvert_exporter": "python",
   "pygments_lexer": "ipython3",
   "version": "3.9.12"
  }
 },
 "nbformat": 4,
 "nbformat_minor": 5
}
