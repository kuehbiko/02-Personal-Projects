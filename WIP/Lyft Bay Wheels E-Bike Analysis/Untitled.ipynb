{
 "cells": [
  {
   "cell_type": "code",
   "execution_count": 2,
   "id": "b3b5d29e",
   "metadata": {},
   "outputs": [],
   "source": [
    "# import libraries\n",
    "import os\n",
    "\n",
    "import pandas as pd\n",
    "import numpy as np\n",
    "import datetime as dt\n",
    "\n",
    "import matplotlib.pyplot as plt\n",
    "import seaborn as sns\n",
    "import plotly.express as px"
   ]
  },
  {
   "cell_type": "code",
   "execution_count": 3,
   "id": "901c8fac",
   "metadata": {},
   "outputs": [],
   "source": [
    "# read data\n",
    "# website: https://www.lyft.com/bikes/bay-wheels/system-data\n",
    "\n",
    "# Walk through all directories and subdirectories\n",
    "dfs = []\n",
    "for root, dirs, files in os.walk('data/2022/'):\n",
    "    for file in files:\n",
    "        # Check if the file is a CSV file\n",
    "        if file.endswith('.csv'):\n",
    "            # Read the file into a data frame and append it to the list of data frames\n",
    "            df = pd.read_csv(os.path.join(root, file))\n",
    "            dfs.append(df)\n",
    "\n",
    "# concat all data frames into a single data frame\n",
    "df0 = pd.concat(dfs, ignore_index=True)"
   ]
  },
  {
   "cell_type": "code",
   "execution_count": 4,
   "id": "9cec0277",
   "metadata": {},
   "outputs": [
    {
     "data": {
      "text/html": [
       "<div>\n",
       "<style scoped>\n",
       "    .dataframe tbody tr th:only-of-type {\n",
       "        vertical-align: middle;\n",
       "    }\n",
       "\n",
       "    .dataframe tbody tr th {\n",
       "        vertical-align: top;\n",
       "    }\n",
       "\n",
       "    .dataframe thead th {\n",
       "        text-align: right;\n",
       "    }\n",
       "</style>\n",
       "<table border=\"1\" class=\"dataframe\">\n",
       "  <thead>\n",
       "    <tr style=\"text-align: right;\">\n",
       "      <th></th>\n",
       "      <th>ride_id</th>\n",
       "      <th>rideable_type</th>\n",
       "      <th>started_at</th>\n",
       "      <th>ended_at</th>\n",
       "      <th>start_station_name</th>\n",
       "      <th>start_station_id</th>\n",
       "      <th>end_station_name</th>\n",
       "      <th>end_station_id</th>\n",
       "      <th>start_lat</th>\n",
       "      <th>start_lng</th>\n",
       "      <th>end_lat</th>\n",
       "      <th>end_lng</th>\n",
       "      <th>member_casual</th>\n",
       "    </tr>\n",
       "  </thead>\n",
       "  <tbody>\n",
       "    <tr>\n",
       "      <th>0</th>\n",
       "      <td>0DD008BC62836D27</td>\n",
       "      <td>classic_bike</td>\n",
       "      <td>2022-01-13 19:12:23</td>\n",
       "      <td>2022-01-13 19:22:13</td>\n",
       "      <td>Washington St at Van Ness Ave</td>\n",
       "      <td>SF-E22</td>\n",
       "      <td>Natoma St at New Montgomery St</td>\n",
       "      <td>SF-G28-2</td>\n",
       "      <td>37.792980</td>\n",
       "      <td>-122.423302</td>\n",
       "      <td>37.786456</td>\n",
       "      <td>-122.399749</td>\n",
       "      <td>member</td>\n",
       "    </tr>\n",
       "    <tr>\n",
       "      <th>1</th>\n",
       "      <td>BE9F5C77F1BE0FBF</td>\n",
       "      <td>classic_bike</td>\n",
       "      <td>2022-01-15 15:58:55</td>\n",
       "      <td>2022-01-15 16:10:03</td>\n",
       "      <td>Washington St at Van Ness Ave</td>\n",
       "      <td>SF-E22</td>\n",
       "      <td>Natoma St at New Montgomery St</td>\n",
       "      <td>SF-G28-2</td>\n",
       "      <td>37.792980</td>\n",
       "      <td>-122.423302</td>\n",
       "      <td>37.786456</td>\n",
       "      <td>-122.399749</td>\n",
       "      <td>member</td>\n",
       "    </tr>\n",
       "    <tr>\n",
       "      <th>2</th>\n",
       "      <td>F0826402062D5A44</td>\n",
       "      <td>classic_bike</td>\n",
       "      <td>2022-01-07 20:34:47</td>\n",
       "      <td>2022-01-07 20:55:25</td>\n",
       "      <td>17th St at Dolores St</td>\n",
       "      <td>SF-N21</td>\n",
       "      <td>Scott St at Golden Gate Ave</td>\n",
       "      <td>SF-I19</td>\n",
       "      <td>37.763015</td>\n",
       "      <td>-122.426497</td>\n",
       "      <td>37.778999</td>\n",
       "      <td>-122.436861</td>\n",
       "      <td>member</td>\n",
       "    </tr>\n",
       "    <tr>\n",
       "      <th>3</th>\n",
       "      <td>EE9A8BB189061CFD</td>\n",
       "      <td>classic_bike</td>\n",
       "      <td>2022-01-31 16:38:25</td>\n",
       "      <td>2022-01-31 17:13:05</td>\n",
       "      <td>El Embarcadero at Grand Ave</td>\n",
       "      <td>OK-I9</td>\n",
       "      <td>Ninth St at Heinz Ave</td>\n",
       "      <td>BK-H3</td>\n",
       "      <td>37.808715</td>\n",
       "      <td>-122.249251</td>\n",
       "      <td>37.853907</td>\n",
       "      <td>-122.289698</td>\n",
       "      <td>member</td>\n",
       "    </tr>\n",
       "    <tr>\n",
       "      <th>4</th>\n",
       "      <td>772A8B545A8525C0</td>\n",
       "      <td>classic_bike</td>\n",
       "      <td>2022-01-28 17:28:22</td>\n",
       "      <td>2022-01-28 17:39:55</td>\n",
       "      <td>17th St at Dolores St</td>\n",
       "      <td>SF-N21</td>\n",
       "      <td>Octavia Blvd at Page St</td>\n",
       "      <td>SF-J22-1</td>\n",
       "      <td>37.763015</td>\n",
       "      <td>-122.426497</td>\n",
       "      <td>37.774018</td>\n",
       "      <td>-122.423809</td>\n",
       "      <td>casual</td>\n",
       "    </tr>\n",
       "  </tbody>\n",
       "</table>\n",
       "</div>"
      ],
      "text/plain": [
       "            ride_id rideable_type           started_at             ended_at  \\\n",
       "0  0DD008BC62836D27  classic_bike  2022-01-13 19:12:23  2022-01-13 19:22:13   \n",
       "1  BE9F5C77F1BE0FBF  classic_bike  2022-01-15 15:58:55  2022-01-15 16:10:03   \n",
       "2  F0826402062D5A44  classic_bike  2022-01-07 20:34:47  2022-01-07 20:55:25   \n",
       "3  EE9A8BB189061CFD  classic_bike  2022-01-31 16:38:25  2022-01-31 17:13:05   \n",
       "4  772A8B545A8525C0  classic_bike  2022-01-28 17:28:22  2022-01-28 17:39:55   \n",
       "\n",
       "              start_station_name start_station_id  \\\n",
       "0  Washington St at Van Ness Ave           SF-E22   \n",
       "1  Washington St at Van Ness Ave           SF-E22   \n",
       "2          17th St at Dolores St           SF-N21   \n",
       "3    El Embarcadero at Grand Ave            OK-I9   \n",
       "4          17th St at Dolores St           SF-N21   \n",
       "\n",
       "                 end_station_name end_station_id  start_lat   start_lng  \\\n",
       "0  Natoma St at New Montgomery St       SF-G28-2  37.792980 -122.423302   \n",
       "1  Natoma St at New Montgomery St       SF-G28-2  37.792980 -122.423302   \n",
       "2     Scott St at Golden Gate Ave         SF-I19  37.763015 -122.426497   \n",
       "3           Ninth St at Heinz Ave          BK-H3  37.808715 -122.249251   \n",
       "4         Octavia Blvd at Page St       SF-J22-1  37.763015 -122.426497   \n",
       "\n",
       "     end_lat     end_lng member_casual  \n",
       "0  37.786456 -122.399749        member  \n",
       "1  37.786456 -122.399749        member  \n",
       "2  37.778999 -122.436861        member  \n",
       "3  37.853907 -122.289698        member  \n",
       "4  37.774018 -122.423809        casual  "
      ]
     },
     "execution_count": 4,
     "metadata": {},
     "output_type": "execute_result"
    }
   ],
   "source": [
    "# get preview\n",
    "df0.head()"
   ]
  },
  {
   "cell_type": "code",
   "execution_count": 6,
   "id": "76015cb3",
   "metadata": {},
   "outputs": [
    {
     "name": "stdout",
     "output_type": "stream",
     "text": [
      "<class 'pandas.core.frame.DataFrame'>\n",
      "RangeIndex: 2614800 entries, 0 to 2614799\n",
      "Data columns (total 13 columns):\n",
      " #   Column              Dtype  \n",
      "---  ------              -----  \n",
      " 0   ride_id             object \n",
      " 1   rideable_type       object \n",
      " 2   started_at          object \n",
      " 3   ended_at            object \n",
      " 4   start_station_name  object \n",
      " 5   start_station_id    object \n",
      " 6   end_station_name    object \n",
      " 7   end_station_id      object \n",
      " 8   start_lat           float64\n",
      " 9   start_lng           float64\n",
      " 10  end_lat             float64\n",
      " 11  end_lng             float64\n",
      " 12  member_casual       object \n",
      "dtypes: float64(4), object(9)\n",
      "memory usage: 259.3+ MB\n"
     ]
    }
   ],
   "source": [
    "# get info\n",
    "df0.info()"
   ]
  },
  {
   "cell_type": "code",
   "execution_count": 7,
   "id": "aa19d828",
   "metadata": {},
   "outputs": [
    {
     "data": {
      "text/html": [
       "<div>\n",
       "<style scoped>\n",
       "    .dataframe tbody tr th:only-of-type {\n",
       "        vertical-align: middle;\n",
       "    }\n",
       "\n",
       "    .dataframe tbody tr th {\n",
       "        vertical-align: top;\n",
       "    }\n",
       "\n",
       "    .dataframe thead th {\n",
       "        text-align: right;\n",
       "    }\n",
       "</style>\n",
       "<table border=\"1\" class=\"dataframe\">\n",
       "  <thead>\n",
       "    <tr style=\"text-align: right;\">\n",
       "      <th></th>\n",
       "      <th>count</th>\n",
       "      <th>mean</th>\n",
       "      <th>std</th>\n",
       "      <th>min</th>\n",
       "      <th>25%</th>\n",
       "      <th>50%</th>\n",
       "      <th>75%</th>\n",
       "      <th>max</th>\n",
       "    </tr>\n",
       "  </thead>\n",
       "  <tbody>\n",
       "    <tr>\n",
       "      <th>start_lat</th>\n",
       "      <td>2614800.0</td>\n",
       "      <td>37.768734</td>\n",
       "      <td>0.075707</td>\n",
       "      <td>37.230000</td>\n",
       "      <td>37.767052</td>\n",
       "      <td>37.777310</td>\n",
       "      <td>37.790000</td>\n",
       "      <td>37.880222</td>\n",
       "    </tr>\n",
       "    <tr>\n",
       "      <th>start_lng</th>\n",
       "      <td>2614800.0</td>\n",
       "      <td>-122.395012</td>\n",
       "      <td>0.094679</td>\n",
       "      <td>-122.511347</td>\n",
       "      <td>-122.427555</td>\n",
       "      <td>-122.411738</td>\n",
       "      <td>-122.397086</td>\n",
       "      <td>-121.780000</td>\n",
       "    </tr>\n",
       "    <tr>\n",
       "      <th>end_lat</th>\n",
       "      <td>2612230.0</td>\n",
       "      <td>37.768874</td>\n",
       "      <td>0.082523</td>\n",
       "      <td>0.000000</td>\n",
       "      <td>37.767045</td>\n",
       "      <td>37.777547</td>\n",
       "      <td>37.790000</td>\n",
       "      <td>38.000000</td>\n",
       "    </tr>\n",
       "    <tr>\n",
       "      <th>end_lng</th>\n",
       "      <td>2612230.0</td>\n",
       "      <td>-122.394626</td>\n",
       "      <td>0.142783</td>\n",
       "      <td>-122.520000</td>\n",
       "      <td>-122.426659</td>\n",
       "      <td>-122.411306</td>\n",
       "      <td>-122.396973</td>\n",
       "      <td>0.000000</td>\n",
       "    </tr>\n",
       "  </tbody>\n",
       "</table>\n",
       "</div>"
      ],
      "text/plain": [
       "               count        mean       std         min         25%  \\\n",
       "start_lat  2614800.0   37.768734  0.075707   37.230000   37.767052   \n",
       "start_lng  2614800.0 -122.395012  0.094679 -122.511347 -122.427555   \n",
       "end_lat    2612230.0   37.768874  0.082523    0.000000   37.767045   \n",
       "end_lng    2612230.0 -122.394626  0.142783 -122.520000 -122.426659   \n",
       "\n",
       "                  50%         75%         max  \n",
       "start_lat   37.777310   37.790000   37.880222  \n",
       "start_lng -122.411738 -122.397086 -121.780000  \n",
       "end_lat     37.777547   37.790000   38.000000  \n",
       "end_lng   -122.411306 -122.396973    0.000000  "
      ]
     },
     "execution_count": 7,
     "metadata": {},
     "output_type": "execute_result"
    }
   ],
   "source": [
    "# get stats\n",
    "df0.describe().T"
   ]
  },
  {
   "cell_type": "code",
   "execution_count": null,
   "id": "f3532afd",
   "metadata": {},
   "outputs": [],
   "source": [
    "# describe is not a useful metric here"
   ]
  },
  {
   "cell_type": "code",
   "execution_count": 8,
   "id": "7eb13e61",
   "metadata": {},
   "outputs": [
    {
     "data": {
      "text/plain": [
       "ride_id                    0\n",
       "rideable_type              0\n",
       "started_at                 0\n",
       "ended_at                   0\n",
       "start_station_name    384498\n",
       "start_station_id      387199\n",
       "end_station_name      439866\n",
       "end_station_id        442601\n",
       "start_lat                  0\n",
       "start_lng                  0\n",
       "end_lat                 2570\n",
       "end_lng                 2570\n",
       "member_casual              0\n",
       "dtype: int64"
      ]
     },
     "execution_count": 8,
     "metadata": {},
     "output_type": "execute_result"
    }
   ],
   "source": [
    "# get missing data\n",
    "df0.isnull().sum()"
   ]
  },
  {
   "cell_type": "code",
   "execution_count": 9,
   "id": "60808b93",
   "metadata": {},
   "outputs": [
    {
     "data": {
      "text/plain": [
       "0"
      ]
     },
     "execution_count": 9,
     "metadata": {},
     "output_type": "execute_result"
    }
   ],
   "source": [
    "df0.duplicated().sum()"
   ]
  },
  {
   "cell_type": "code",
   "execution_count": null,
   "id": "946d1de3",
   "metadata": {},
   "outputs": [],
   "source": [
    " "
   ]
  }
 ],
 "metadata": {
  "kernelspec": {
   "display_name": "Python 3 (ipykernel)",
   "language": "python",
   "name": "python3"
  },
  "language_info": {
   "codemirror_mode": {
    "name": "ipython",
    "version": 3
   },
   "file_extension": ".py",
   "mimetype": "text/x-python",
   "name": "python",
   "nbconvert_exporter": "python",
   "pygments_lexer": "ipython3",
   "version": "3.9.12"
  }
 },
 "nbformat": 4,
 "nbformat_minor": 5
}
