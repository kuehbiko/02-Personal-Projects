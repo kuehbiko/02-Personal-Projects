{
 "cells": [
  {
   "cell_type": "markdown",
   "id": "72327f43",
   "metadata": {},
   "source": [
    "table of contents\n",
    "1. data acquisition\n",
    "2. data wrangling and cleaning\n",
    "3. data exploration and visualization\n",
    "4. recommendations and conclusions"
   ]
  },
  {
   "cell_type": "markdown",
   "id": "c4ddcf09",
   "metadata": {},
   "source": [
    "## 1. Data Acquisition"
   ]
  },
  {
   "cell_type": "markdown",
   "id": "a25090f2",
   "metadata": {},
   "source": [
    "### 1.1 Load Packages and Data"
   ]
  },
  {
   "cell_type": "code",
   "execution_count": 1,
   "id": "6000fb29",
   "metadata": {},
   "outputs": [],
   "source": [
    "# import libraries\n",
    "import os\n",
    "\n",
    "import pandas as pd\n",
    "import numpy as np\n",
    "from datetime import datetime\n",
    "import datetime as dt\n",
    "\n",
    "import matplotlib.pyplot as plt\n",
    "import seaborn as sns\n",
    "import plotly.express as px"
   ]
  },
  {
   "cell_type": "code",
   "execution_count": 2,
   "id": "a8751370",
   "metadata": {},
   "outputs": [],
   "source": [
    "# read data (website: https://www.lyft.com/bikes/bay-wheels/system-data)\n",
    "\n",
    "# Walk through all directories and subdirectories\n",
    "dfs = []\n",
    "for root, dirs, files in os.walk('data/2022/'):\n",
    "    for file in files:\n",
    "        # Check if the file is a CSV file\n",
    "        if file.endswith('.csv'):\n",
    "            # Read the file into a data frame and append it to the list of data frames\n",
    "            df = pd.read_csv(os.path.join(root, file))\n",
    "            dfs.append(df)\n",
    "\n",
    "# concat all data frames into a single data frame\n",
    "df0 = pd.concat(dfs, ignore_index=True)"
   ]
  },
  {
   "cell_type": "markdown",
   "id": "bef1f4b0",
   "metadata": {},
   "source": [
    "### 1.2 Inspect Data"
   ]
  },
  {
   "cell_type": "code",
   "execution_count": 3,
   "id": "0b43315b",
   "metadata": {},
   "outputs": [],
   "source": [
    "# make a working copy\n",
    "df1 = df0.copy()"
   ]
  },
  {
   "cell_type": "code",
   "execution_count": 4,
   "id": "ae4250ea",
   "metadata": {
    "collapsed": true
   },
   "outputs": [
    {
     "data": {
      "text/html": [
       "<div>\n",
       "<style scoped>\n",
       "    .dataframe tbody tr th:only-of-type {\n",
       "        vertical-align: middle;\n",
       "    }\n",
       "\n",
       "    .dataframe tbody tr th {\n",
       "        vertical-align: top;\n",
       "    }\n",
       "\n",
       "    .dataframe thead th {\n",
       "        text-align: right;\n",
       "    }\n",
       "</style>\n",
       "<table border=\"1\" class=\"dataframe\">\n",
       "  <thead>\n",
       "    <tr style=\"text-align: right;\">\n",
       "      <th></th>\n",
       "      <th>ride_id</th>\n",
       "      <th>rideable_type</th>\n",
       "      <th>started_at</th>\n",
       "      <th>ended_at</th>\n",
       "      <th>start_station_name</th>\n",
       "      <th>start_station_id</th>\n",
       "      <th>end_station_name</th>\n",
       "      <th>end_station_id</th>\n",
       "      <th>start_lat</th>\n",
       "      <th>start_lng</th>\n",
       "      <th>end_lat</th>\n",
       "      <th>end_lng</th>\n",
       "      <th>member_casual</th>\n",
       "    </tr>\n",
       "  </thead>\n",
       "  <tbody>\n",
       "    <tr>\n",
       "      <th>0</th>\n",
       "      <td>0DD008BC62836D27</td>\n",
       "      <td>classic_bike</td>\n",
       "      <td>2022-01-13 19:12:23</td>\n",
       "      <td>2022-01-13 19:22:13</td>\n",
       "      <td>Washington St at Van Ness Ave</td>\n",
       "      <td>SF-E22</td>\n",
       "      <td>Natoma St at New Montgomery St</td>\n",
       "      <td>SF-G28-2</td>\n",
       "      <td>37.79298</td>\n",
       "      <td>-122.423302</td>\n",
       "      <td>37.786456</td>\n",
       "      <td>-122.399749</td>\n",
       "      <td>member</td>\n",
       "    </tr>\n",
       "  </tbody>\n",
       "</table>\n",
       "</div>"
      ],
      "text/plain": [
       "            ride_id rideable_type           started_at             ended_at  \\\n",
       "0  0DD008BC62836D27  classic_bike  2022-01-13 19:12:23  2022-01-13 19:22:13   \n",
       "\n",
       "              start_station_name start_station_id  \\\n",
       "0  Washington St at Van Ness Ave           SF-E22   \n",
       "\n",
       "                 end_station_name end_station_id  start_lat   start_lng  \\\n",
       "0  Natoma St at New Montgomery St       SF-G28-2   37.79298 -122.423302   \n",
       "\n",
       "     end_lat     end_lng member_casual  \n",
       "0  37.786456 -122.399749        member  "
      ]
     },
     "execution_count": 4,
     "metadata": {},
     "output_type": "execute_result"
    }
   ],
   "source": [
    "# get preview\n",
    "df1.head()"
   ]
  },
  {
   "cell_type": "code",
   "execution_count": 5,
   "id": "fabef493",
   "metadata": {
    "collapsed": true
   },
   "outputs": [
    {
     "name": "stdout",
     "output_type": "stream",
     "text": [
      "<class 'pandas.core.frame.DataFrame'>\n",
      "RangeIndex: 2614800 entries, 0 to 2614799\n",
      "Data columns (total 13 columns):\n",
      " #   Column              Non-Null Count    Dtype  \n",
      "---  ------              --------------    -----  \n",
      " 0   ride_id             2614800 non-null  object \n",
      " 1   rideable_type       2614800 non-null  object \n",
      " 2   started_at          2614800 non-null  object \n",
      " 3   ended_at            2614800 non-null  object \n",
      " 4   start_station_name  2230302 non-null  object \n",
      " 5   start_station_id    2227601 non-null  object \n",
      " 6   end_station_name    2174934 non-null  object \n",
      " 7   end_station_id      2172199 non-null  object \n",
      " 8   start_lat           2614800 non-null  float64\n",
      " 9   start_lng           2614800 non-null  float64\n",
      " 10  end_lat             2612230 non-null  float64\n",
      " 11  end_lng             2612230 non-null  float64\n",
      " 12  member_casual       2614800 non-null  object \n",
      "dtypes: float64(4), object(9)\n",
      "memory usage: 259.3+ MB\n"
     ]
    }
   ],
   "source": [
    "# get info about data\n",
    "df1.info(show_counts=True)"
   ]
  },
  {
   "cell_type": "markdown",
   "id": "5da15e3e",
   "metadata": {},
   "source": [
    "***"
   ]
  },
  {
   "cell_type": "markdown",
   "id": "38a9c876",
   "metadata": {},
   "source": [
    "## 2. Data Cleaning, Wrangling and Pre-processing"
   ]
  },
  {
   "cell_type": "markdown",
   "id": "d40c9fe0",
   "metadata": {},
   "source": [
    "### 2.1 Update Data Types"
   ]
  },
  {
   "cell_type": "code",
   "execution_count": 6,
   "id": "9472c21a",
   "metadata": {
    "collapsed": true
   },
   "outputs": [
    {
     "name": "stdout",
     "output_type": "stream",
     "text": [
      "<class 'pandas.core.frame.DataFrame'>\n",
      "RangeIndex: 2614800 entries, 0 to 2614799\n",
      "Data columns (total 13 columns):\n",
      " #   Column              Dtype         \n",
      "---  ------              -----         \n",
      " 0   ride_id             object        \n",
      " 1   rideable_type       object        \n",
      " 2   started_at          datetime64[ns]\n",
      " 3   ended_at            datetime64[ns]\n",
      " 4   start_station_name  object        \n",
      " 5   start_station_id    object        \n",
      " 6   end_station_name    object        \n",
      " 7   end_station_id      object        \n",
      " 8   start_lat           object        \n",
      " 9   start_lng           object        \n",
      " 10  end_lat             object        \n",
      " 11  end_lng             object        \n",
      " 12  member_casual       object        \n",
      "dtypes: datetime64[ns](2), object(11)\n",
      "memory usage: 259.3+ MB\n"
     ]
    }
   ],
   "source": [
    "# update data types\n",
    "dtype= {'started_at': 'datetime64', \n",
    "        'ended_at': 'datetime64'}\n",
    "\n",
    "df1 = df1.astype(dtype)\n",
    "\n",
    "# Test\n",
    "df1.info()"
   ]
  },
  {
   "cell_type": "markdown",
   "id": "86772a3f",
   "metadata": {},
   "source": [
    "### 2.2 Check Duplicate and Missing Values"
   ]
  },
  {
   "cell_type": "code",
   "execution_count": 7,
   "id": "af84704a",
   "metadata": {},
   "outputs": [
    {
     "data": {
      "text/plain": [
       "0"
      ]
     },
     "execution_count": 7,
     "metadata": {},
     "output_type": "execute_result"
    }
   ],
   "source": [
    "# check duplicates\n",
    "df1.duplicated().sum()"
   ]
  },
  {
   "cell_type": "code",
   "execution_count": 8,
   "id": "f21c9e66",
   "metadata": {
    "collapsed": true
   },
   "outputs": [
    {
     "data": {
      "text/plain": [
       "ride_id                    0\n",
       "rideable_type              0\n",
       "started_at                 0\n",
       "ended_at                   0\n",
       "start_station_name    384498\n",
       "start_station_id      387199\n",
       "end_station_name      439866\n",
       "end_station_id        442601\n",
       "start_lat                  0\n",
       "start_lng                  0\n",
       "end_lat                 2570\n",
       "end_lng                 2570\n",
       "member_casual              0\n",
       "dtype: int64"
      ]
     },
     "execution_count": 8,
     "metadata": {},
     "output_type": "execute_result"
    }
   ],
   "source": [
    "# check missing values\n",
    "df1.isnull().sum()"
   ]
  },
  {
   "cell_type": "code",
   "execution_count": 9,
   "id": "5bb937c4",
   "metadata": {
    "collapsed": true
   },
   "outputs": [
    {
     "data": {
      "text/plain": [
       "ride_id                    0\n",
       "rideable_type              0\n",
       "started_at                 0\n",
       "ended_at                   0\n",
       "start_station_name    384498\n",
       "start_station_id      387195\n",
       "end_station_name      437296\n",
       "end_station_id        440031\n",
       "start_lat                  0\n",
       "start_lng                  0\n",
       "end_lat                    0\n",
       "end_lng                    0\n",
       "member_casual              0\n",
       "dtype: int64"
      ]
     },
     "execution_count": 9,
     "metadata": {},
     "output_type": "execute_result"
    }
   ],
   "source": [
    "# drop all rides missing end latitude\n",
    "df1 = df1.dropna(subset=['end_lat'])\n",
    "\n",
    "# check update\n",
    "df1.isnull().sum()"
   ]
  },
  {
   "cell_type": "markdown",
   "id": "cce85806",
   "metadata": {},
   "source": [
    "### 2.3 Handle Missing Values Using Station Name And Station ID"
   ]
  },
  {
   "cell_type": "markdown",
   "id": "f0bd18e7",
   "metadata": {},
   "source": [
    "**Missing values in `start_station_name` and `start_station_id`**"
   ]
  },
  {
   "cell_type": "code",
   "execution_count": 11,
   "id": "f99efc20",
   "metadata": {
    "collapsed": true
   },
   "outputs": [
    {
     "data": {
      "text/html": [
       "<div>\n",
       "<style scoped>\n",
       "    .dataframe tbody tr th:only-of-type {\n",
       "        vertical-align: middle;\n",
       "    }\n",
       "\n",
       "    .dataframe tbody tr th {\n",
       "        vertical-align: top;\n",
       "    }\n",
       "\n",
       "    .dataframe thead th {\n",
       "        text-align: right;\n",
       "    }\n",
       "</style>\n",
       "<table border=\"1\" class=\"dataframe\">\n",
       "  <thead>\n",
       "    <tr style=\"text-align: right;\">\n",
       "      <th></th>\n",
       "      <th>ride_id</th>\n",
       "      <th>rideable_type</th>\n",
       "      <th>started_at</th>\n",
       "      <th>ended_at</th>\n",
       "      <th>start_station_name</th>\n",
       "      <th>start_station_id</th>\n",
       "      <th>end_station_name</th>\n",
       "      <th>end_station_id</th>\n",
       "      <th>start_lat</th>\n",
       "      <th>start_lng</th>\n",
       "      <th>end_lat</th>\n",
       "      <th>end_lng</th>\n",
       "      <th>member_casual</th>\n",
       "    </tr>\n",
       "  </thead>\n",
       "  <tbody>\n",
       "    <tr>\n",
       "      <th>1091</th>\n",
       "      <td>95B9A7847720F560</td>\n",
       "      <td>electric_bike</td>\n",
       "      <td>2022-01-18 20:14:43</td>\n",
       "      <td>2022-01-18 20:19:39</td>\n",
       "      <td>NaN</td>\n",
       "      <td>NaN</td>\n",
       "      <td>18th St at Noe St</td>\n",
       "      <td>SF-O19</td>\n",
       "      <td>37.76</td>\n",
       "      <td>-122.42</td>\n",
       "      <td>37.761047</td>\n",
       "      <td>-122.432642</td>\n",
       "      <td>member</td>\n",
       "    </tr>\n",
       "    <tr>\n",
       "      <th>1092</th>\n",
       "      <td>2A653EF4CDCE1342</td>\n",
       "      <td>electric_bike</td>\n",
       "      <td>2022-01-10 08:54:10</td>\n",
       "      <td>2022-01-10 09:13:52</td>\n",
       "      <td>NaN</td>\n",
       "      <td>NaN</td>\n",
       "      <td>Terry Francois Blvd at Mission Bay Blvd N</td>\n",
       "      <td>SF-L31-1</td>\n",
       "      <td>37.81</td>\n",
       "      <td>-122.42</td>\n",
       "      <td>37.771767</td>\n",
       "      <td>-122.386689</td>\n",
       "      <td>member</td>\n",
       "    </tr>\n",
       "    <tr>\n",
       "      <th>1093</th>\n",
       "      <td>0665F2FA09B5C666</td>\n",
       "      <td>electric_bike</td>\n",
       "      <td>2022-01-08 20:33:19</td>\n",
       "      <td>2022-01-08 20:36:18</td>\n",
       "      <td>NaN</td>\n",
       "      <td>NaN</td>\n",
       "      <td>Terry Francois Blvd at Mission Bay Blvd N</td>\n",
       "      <td>SF-L31-1</td>\n",
       "      <td>37.77</td>\n",
       "      <td>-122.39</td>\n",
       "      <td>37.771767</td>\n",
       "      <td>-122.386689</td>\n",
       "      <td>casual</td>\n",
       "    </tr>\n",
       "    <tr>\n",
       "      <th>1547</th>\n",
       "      <td>6CAE891EE8D630A5</td>\n",
       "      <td>electric_bike</td>\n",
       "      <td>2022-01-30 10:59:49</td>\n",
       "      <td>2022-01-30 11:28:04</td>\n",
       "      <td>NaN</td>\n",
       "      <td>NaN</td>\n",
       "      <td>48th Ave at Cabrillo St</td>\n",
       "      <td>SF-J1</td>\n",
       "      <td>37.8</td>\n",
       "      <td>-122.43</td>\n",
       "      <td>37.772954</td>\n",
       "      <td>-122.509071</td>\n",
       "      <td>casual</td>\n",
       "    </tr>\n",
       "    <tr>\n",
       "      <th>1548</th>\n",
       "      <td>39568245D8151714</td>\n",
       "      <td>electric_bike</td>\n",
       "      <td>2022-01-20 17:49:45</td>\n",
       "      <td>2022-01-20 17:55:13</td>\n",
       "      <td>NaN</td>\n",
       "      <td>NaN</td>\n",
       "      <td>Laguna St at Hayes St</td>\n",
       "      <td>SF-J21</td>\n",
       "      <td>37.78</td>\n",
       "      <td>-122.42</td>\n",
       "      <td>37.776247</td>\n",
       "      <td>-122.426203</td>\n",
       "      <td>casual</td>\n",
       "    </tr>\n",
       "  </tbody>\n",
       "</table>\n",
       "</div>"
      ],
      "text/plain": [
       "               ride_id  rideable_type          started_at            ended_at  \\\n",
       "1091  95B9A7847720F560  electric_bike 2022-01-18 20:14:43 2022-01-18 20:19:39   \n",
       "1092  2A653EF4CDCE1342  electric_bike 2022-01-10 08:54:10 2022-01-10 09:13:52   \n",
       "1093  0665F2FA09B5C666  electric_bike 2022-01-08 20:33:19 2022-01-08 20:36:18   \n",
       "1547  6CAE891EE8D630A5  electric_bike 2022-01-30 10:59:49 2022-01-30 11:28:04   \n",
       "1548  39568245D8151714  electric_bike 2022-01-20 17:49:45 2022-01-20 17:55:13   \n",
       "\n",
       "     start_station_name start_station_id  \\\n",
       "1091                NaN              NaN   \n",
       "1092                NaN              NaN   \n",
       "1093                NaN              NaN   \n",
       "1547                NaN              NaN   \n",
       "1548                NaN              NaN   \n",
       "\n",
       "                               end_station_name end_station_id start_lat  \\\n",
       "1091                          18th St at Noe St         SF-O19     37.76   \n",
       "1092  Terry Francois Blvd at Mission Bay Blvd N       SF-L31-1     37.81   \n",
       "1093  Terry Francois Blvd at Mission Bay Blvd N       SF-L31-1     37.77   \n",
       "1547                    48th Ave at Cabrillo St          SF-J1      37.8   \n",
       "1548                      Laguna St at Hayes St         SF-J21     37.78   \n",
       "\n",
       "     start_lng    end_lat     end_lng member_casual  \n",
       "1091   -122.42  37.761047 -122.432642        member  \n",
       "1092   -122.42  37.771767 -122.386689        member  \n",
       "1093   -122.39  37.771767 -122.386689        casual  \n",
       "1547   -122.43  37.772954 -122.509071        casual  \n",
       "1548   -122.42  37.776247 -122.426203        casual  "
      ]
     },
     "execution_count": 11,
     "metadata": {},
     "output_type": "execute_result"
    }
   ],
   "source": [
    "# scope out rows with missing data\n",
    "df1[df1['start_station_name'].isnull()].head()"
   ]
  },
  {
   "cell_type": "code",
   "execution_count": 13,
   "id": "096e87dd",
   "metadata": {},
   "outputs": [
    {
     "data": {
      "text/plain": [
       "Series([], Name: start_station_id, dtype: int64)"
      ]
     },
     "execution_count": 13,
     "metadata": {},
     "output_type": "execute_result"
    }
   ],
   "source": [
    "# rows with station id, but without station name\n",
    "df1[(~df1['start_station_id'].isnull())\n",
    "   &(df1['start_station_name'].isnull())]['start_station_id'].value_counts()"
   ]
  },
  {
   "cell_type": "code",
   "execution_count": 14,
   "id": "bd6347e9",
   "metadata": {
    "collapsed": true
   },
   "outputs": [
    {
     "data": {
      "text/plain": [
       "Howard St at Grace St           1524\n",
       "Berry St at 4th St Station 2     960\n",
       "Howard Internal Monolith         119\n",
       "Howard Grace #2                   91\n",
       "Berry St at 4th St*                3\n",
       "Name: start_station_name, dtype: int64"
      ]
     },
     "execution_count": 14,
     "metadata": {},
     "output_type": "execute_result"
    }
   ],
   "source": [
    "# rows with station name, but without station id\n",
    "df1[(~df1['start_station_name'].isnull())\n",
    "   &(df1['start_station_id'].isnull())]['start_station_name'].value_counts()"
   ]
  },
  {
   "cell_type": "code",
   "execution_count": 16,
   "id": "ea5b6d6e",
   "metadata": {},
   "outputs": [],
   "source": [
    "# get list of station names that are missing station id\n",
    "stns = df1[(~df1['start_station_name'].isnull())\n",
    "          &(df1['start_station_id'].isnull())]['start_station_name'] \\\n",
    "          .value_counts().index.tolist()\n",
    "\n",
    "# the check how many station names are missing station id\n",
    "for idx,stn in enumerate(stns):\n",
    "    stn_id = df1[df1['start_station_name']==stn]['start_station_id'].value_counts().index\n",
    "    print(stn, stn_id)"
   ]
  },
  {
   "cell_type": "code",
   "execution_count": 19,
   "id": "49831225",
   "metadata": {},
   "outputs": [],
   "source": [
    "# since there is only 1, update missing station id\n",
    "df1.loc[(df1['start_station_id'].isna()) \n",
    "       &(df1['start_station_name']=='Howard St at Grace St'), 'start_station_id'] = 'SF-K24-2'\n",
    "\n",
    "# then update the rest of the station_id with the station name\n",
    "for idx,stn in enumerate(stns):\n",
    "    df1.loc[(df1['start_station_id'].isna()) \n",
    "       &(df1['start_station_name']==stn), 'start_station_id'] = stn"
   ]
  },
  {
   "cell_type": "code",
   "execution_count": 21,
   "id": "f15f661f",
   "metadata": {},
   "outputs": [
    {
     "data": {
      "text/plain": [
       "Series([], Name: start_station_name, dtype: int64)"
      ]
     },
     "execution_count": 21,
     "metadata": {},
     "output_type": "execute_result"
    }
   ],
   "source": [
    "# check update\n",
    "df1[(~df1['start_station_name'].isnull())\n",
    "   &(df1['start_station_id'].isnull())]['start_station_name'].value_counts()"
   ]
  },
  {
   "cell_type": "markdown",
   "id": "d42a5f1c",
   "metadata": {},
   "source": [
    "**Missing values in `end_station_name` and `end_station_id`**"
   ]
  },
  {
   "cell_type": "code",
   "execution_count": 24,
   "id": "129cfb82",
   "metadata": {
    "collapsed": true
   },
   "outputs": [
    {
     "data": {
      "text/plain": [
       "Series([], Name: end_station_name, dtype: int64)"
      ]
     },
     "execution_count": 24,
     "metadata": {},
     "output_type": "execute_result"
    }
   ],
   "source": [
    "# rows with station id, but without station name\n",
    "df1[(~df1['end_station_id'].isnull())\n",
    "   &(df1['end_station_name'].isnull())]['end_station_name'].value_counts()"
   ]
  },
  {
   "cell_type": "code",
   "execution_count": 25,
   "id": "10a400b8",
   "metadata": {
    "collapsed": true
   },
   "outputs": [
    {
     "data": {
      "text/plain": [
       "Howard St at Grace St           1529\n",
       "Berry St at 4th St Station 2     986\n",
       "Howard Internal Monolith         129\n",
       "Howard Grace #2                   88\n",
       "Berry St at 4th St*                3\n",
       "Name: end_station_name, dtype: int64"
      ]
     },
     "execution_count": 25,
     "metadata": {},
     "output_type": "execute_result"
    }
   ],
   "source": [
    "# rows with station name, but without station id\n",
    "df1[(~df1['end_station_name'].isnull())\n",
    "   &(df1['end_station_id'].isnull())]['end_station_name'].value_counts()"
   ]
  },
  {
   "cell_type": "code",
   "execution_count": 26,
   "id": "b2714875",
   "metadata": {},
   "outputs": [],
   "source": [
    "# apply the same method as we did for the start stations\n",
    "# get list of station names that are missing station id\n",
    "stns = df1[(~df1['end_station_name'].isnull())\n",
    "          &(df1['end_station_id'].isnull())]['end_station_name'].value_counts().index.tolist()\n",
    "\n",
    "# since there is only 1, update missing station id\n",
    "df1.loc[(df1['end_station_id'].isna()) \n",
    "       &(df1['end_station_name']=='Howard St at Grace St'), 'end_station_id'] = 'SF-K24-2'\n",
    "\n",
    "# then update the rest of the station_id with the station name\n",
    "for idx,stn in enumerate(stns):\n",
    "    df1.loc[(df1['end_station_id'].isna()) &(df1['end_station_name']==stn), 'end_station_id'] = stn"
   ]
  },
  {
   "cell_type": "code",
   "execution_count": 27,
   "id": "9532670f",
   "metadata": {
    "collapsed": true
   },
   "outputs": [
    {
     "data": {
      "text/plain": [
       "ride_id                    0\n",
       "rideable_type              0\n",
       "started_at                 0\n",
       "ended_at                   0\n",
       "start_station_name    384498\n",
       "start_station_id      384498\n",
       "end_station_name      437296\n",
       "end_station_id        437296\n",
       "start_lat                  0\n",
       "start_lng                  0\n",
       "end_lat                    0\n",
       "end_lng                    0\n",
       "member_casual              0\n",
       "dtype: int64"
      ]
     },
     "execution_count": 27,
     "metadata": {},
     "output_type": "execute_result"
    }
   ],
   "source": [
    "# check update\n",
    "df1.isnull().sum()"
   ]
  },
  {
   "cell_type": "code",
   "execution_count": 28,
   "id": "0333f816",
   "metadata": {},
   "outputs": [],
   "source": [
    "# now, all staions missing names are also missing id\n",
    "# from here on, we will be working solely with station name"
   ]
  },
  {
   "cell_type": "code",
   "execution_count": 29,
   "id": "ae9b851c",
   "metadata": {},
   "outputs": [],
   "source": [
    "# let's drop station id columns\n",
    "df1 = df1.drop(columns=['start_station_id', 'end_station_id'])\n",
    "\n",
    "# check update\n",
    "df1.head()"
   ]
  },
  {
   "cell_type": "markdown",
   "id": "15e81442",
   "metadata": {},
   "source": [
    "### 2.4 Handling Missing Values Using Latitude and Longitude"
   ]
  },
  {
   "cell_type": "code",
   "execution_count": 31,
   "id": "91813283",
   "metadata": {},
   "outputs": [],
   "source": [
    "# create new columns for full coordinates of stations\n",
    "df1['start_coord'] = df1['start_lat'].astype('str') + ', ' + df1['start_lng'].astype('str')\n",
    "df1['end_coord'] = df1['end_lat'].astype('str') + ', ' + df1['end_lng'].astype('str')"
   ]
  },
  {
   "cell_type": "markdown",
   "id": "e60b322f",
   "metadata": {},
   "source": [
    "**Missing values in `start_station_name`**"
   ]
  },
  {
   "cell_type": "code",
   "execution_count": 32,
   "id": "ae0c925c",
   "metadata": {
    "collapsed": true
   },
   "outputs": [
    {
     "data": {
      "text/plain": [
       "37.79, -122.4     22812\n",
       "37.79, -122.41    14006\n",
       "37.76, -122.42    12579\n",
       "37.78, -122.42    12326\n",
       "37.78, -122.41    11930\n",
       "                  ...  \n",
       "37.3, -121.83         1\n",
       "37.3, -121.96         1\n",
       "37.31, -121.82        1\n",
       "37.26, -121.81        1\n",
       "37.28, -121.86        1\n",
       "Name: start_coord, Length: 331, dtype: int64"
      ]
     },
     "execution_count": 32,
     "metadata": {},
     "output_type": "execute_result"
    }
   ],
   "source": [
    "# check coordinates for missing start station names\n",
    "df1[df1['start_station_name'].isnull()]['start_coord'].value_counts()"
   ]
  },
  {
   "cell_type": "code",
   "execution_count": 33,
   "id": "91d0ea1c",
   "metadata": {
    "collapsed": true
   },
   "outputs": [
    {
     "data": {
      "text/plain": [
       "{'37.78, -122.42': 'Howard St at Grace St',\n",
       " '37.77, -122.43': 'Howard Internal Monolith',\n",
       " '37.77, -122.42': 'Howard St at Grace St',\n",
       " '37.77, -122.41': 'Howard St at Grace St',\n",
       " '37.78, -122.39': 'Berry St at 4th St Station 2'}"
      ]
     },
     "execution_count": 33,
     "metadata": {},
     "output_type": "execute_result"
    }
   ],
   "source": [
    "# get list of coordinates for missing stations\n",
    "start_coords = df1[df1['start_station_name'].isnull()]['start_coord'].value_counts().index.tolist()\n",
    "\n",
    "# create a dictionary for coordinates, look up corresponding station names from other sections of the data\n",
    "stn_names = {}\n",
    "for coords in start_coords: # loop over coords in start_coords list\n",
    "    stn = df1[(df1['start_coord']==coords) & (~df1['start_station_name'].isnull())]\n",
    "    \n",
    "    #if not empty, append station id; else continue\n",
    "    if len(stn): stn_names[coords] = stn['start_station_name'].value_counts().index[0] \n",
    "    else: continue\n",
    "\n",
    "# check output        \n",
    "stn_names"
   ]
  },
  {
   "cell_type": "code",
   "execution_count": 34,
   "id": "135a7959",
   "metadata": {},
   "outputs": [],
   "source": [
    "# some of these coordinates have more than 1 station associated with them, but that means they are all very near each other and \n",
    "# it doesnt make a huge difference if the station name is wrong bc it's being replaced by a station name that is also close by"
   ]
  },
  {
   "cell_type": "code",
   "execution_count": 35,
   "id": "5b5c3be3",
   "metadata": {},
   "outputs": [],
   "source": [
    "# using the dictionary, fill in rows missing station name\n",
    "for coord in stn_names:\n",
    "    df1.loc[(df1['start_coord']==coord) & (df1['start_station_name'].isnull()), 'start_station_name'] = stn_names[coord]\n",
    "\n",
    "# check update\n",
    "df1.isnull().sum()"
   ]
  },
  {
   "cell_type": "markdown",
   "id": "d2c0835b",
   "metadata": {},
   "source": [
    "**Missing values in `end_station_name`**"
   ]
  },
  {
   "cell_type": "code",
   "execution_count": 38,
   "id": "987cc4d1",
   "metadata": {
    "collapsed": true
   },
   "outputs": [
    {
     "data": {
      "text/plain": [
       "37.79, -122.4     27175\n",
       "37.79, -122.41    15825\n",
       "37.78, -122.42    14456\n",
       "37.78, -122.41    14421\n",
       "37.76, -122.42    13930\n",
       "                  ...  \n",
       "37.84, -122.26        1\n",
       "37.39, -121.98        1\n",
       "37.32, -122.01        1\n",
       "37.26, -121.95        1\n",
       "37.55, -122.31        1\n",
       "Name: end_coord, Length: 461, dtype: int64"
      ]
     },
     "execution_count": 38,
     "metadata": {},
     "output_type": "execute_result"
    }
   ],
   "source": [
    "# check coordinates for missing end station names\n",
    "df1[df1['end_station_name'].isnull()]['end_coord'].value_counts()"
   ]
  },
  {
   "cell_type": "code",
   "execution_count": 39,
   "id": "23009b8b",
   "metadata": {
    "collapsed": true
   },
   "outputs": [
    {
     "data": {
      "text/plain": [
       "{'37.77, -122.41': 'Howard St at Grace St',\n",
       " '37.78, -122.39': 'Berry St at 4th St Station 2'}"
      ]
     },
     "execution_count": 39,
     "metadata": {},
     "output_type": "execute_result"
    }
   ],
   "source": [
    "# get list of coordinates for missing stations\n",
    "start_coords = df1[df1['end_station_name'].isnull()]['end_coord'].value_counts().index.tolist()\n",
    "\n",
    "# create a dictionary for coordinates, look up corresponding station names from other sections of the data\n",
    "stn_names = {}\n",
    "for coords in start_coords: # loop over coords in start_coords list\n",
    "    stn = df1[(df1['end_coord']==coords) & (~df1['end_station_name'].isnull())]\n",
    "    \n",
    "    #if not empty, append station id; else continue\n",
    "    if len(stn): stn_names[coords] = stn['end_station_name'].value_counts().index[0] #if not empty, append station id\n",
    "    else: continue\n",
    "\n",
    "# check output         \n",
    "stn_names"
   ]
  },
  {
   "cell_type": "code",
   "execution_count": 40,
   "id": "febd253d",
   "metadata": {},
   "outputs": [],
   "source": [
    "# using the dictionary, fill in rows missing station name\n",
    "for coord in stn_names:\n",
    "    df1.loc[(df1['end_coord']==coord) & (df1['end_station_name'].isnull()), 'end_station_name'] = stn_names[coord]\n",
    "\n",
    "# check update\n",
    "df1.isnull().sum()"
   ]
  },
  {
   "cell_type": "markdown",
   "id": "b6744667",
   "metadata": {},
   "source": [
    "**Rows Still Missing Data in `start_station_name` And `end_station_name`**"
   ]
  },
  {
   "cell_type": "code",
   "execution_count": 42,
   "id": "a2c07c58",
   "metadata": {},
   "outputs": [
    {
     "data": {
      "text/plain": [
       "5.843661405714168"
      ]
     },
     "execution_count": 42,
     "metadata": {},
     "output_type": "execute_result"
    }
   ],
   "source": [
    "# check % of data missing both start and end stations\n",
    "len(df1[(df1['start_station_name'].isnull()) & (df1['end_station_name'].isnull())]) / 2614799 * 100"
   ]
  },
  {
   "cell_type": "code",
   "execution_count": 43,
   "id": "3a86db41",
   "metadata": {
    "collapsed": true
   },
   "outputs": [
    {
     "data": {
      "text/plain": [
       "ride_id                    0\n",
       "rideable_type              0\n",
       "started_at                 0\n",
       "ended_at                   0\n",
       "start_station_name    181135\n",
       "end_station_name      265558\n",
       "start_lat                  0\n",
       "start_lng                  0\n",
       "end_lat                    0\n",
       "end_lng                    0\n",
       "member_casual              0\n",
       "start_coord                0\n",
       "end_coord                  0\n",
       "dtype: int64"
      ]
     },
     "execution_count": 43,
     "metadata": {},
     "output_type": "execute_result"
    }
   ],
   "source": [
    "# drop rows\n",
    "df1 = df1.dropna(subset=['start_station_name', 'end_station_name'], how='all')\n",
    "\n",
    "# check update\n",
    "df1.isnull().sum()"
   ]
  },
  {
   "cell_type": "code",
   "execution_count": 44,
   "id": "5043319c",
   "metadata": {},
   "outputs": [],
   "source": [
    "# not ideal but acceptable"
   ]
  },
  {
   "cell_type": "markdown",
   "id": "28d03a37",
   "metadata": {},
   "source": [
    "### 2.5 Create Time and Datetime Columns"
   ]
  },
  {
   "cell_type": "code",
   "execution_count": 84,
   "id": "052040f7",
   "metadata": {},
   "outputs": [],
   "source": [
    "# create `ride_duration_m` column - ride duration in minutes\n",
    "df1['ride_duration_m'] = (df1['ended_at'] - df1['started_at']).astype('timedelta64[m]')\n",
    "\n",
    "# check update\n",
    "df1.head()"
   ]
  },
  {
   "cell_type": "code",
   "execution_count": 86,
   "id": "0c93b392",
   "metadata": {},
   "outputs": [],
   "source": [
    "# create month, day and hour columns\n",
    "df1['month'] = df1['started_at'].dt.month_name()\n",
    "df1['start_day'] = df1['started_at'].dt.day_name()\n",
    "df1['hour'] = df1['started_at'].dt.hour\n",
    "\n",
    "# check update\n",
    "df1.head()"
   ]
  },
  {
   "cell_type": "markdown",
   "id": "44a2df27",
   "metadata": {},
   "source": [
    "### 2.6 Create Dataframe of Station Locations"
   ]
  },
  {
   "cell_type": "code",
   "execution_count": 88,
   "id": "e638ef29",
   "metadata": {},
   "outputs": [],
   "source": [
    "# get the average coordinates of each start station\n",
    "start_stations_coords = df1.groupby('start_station_name')[['start_lat', 'start_lng']] \\\n",
    "                           .mean().reset_index().rename(columns={'start_station_name': 'station_name',\n",
    "                                                                 'start_lat': 'lat',\n",
    "                                                                 'start_lng': 'lng'})\n",
    "\n",
    "# check dataframe\n",
    "start_stations_coords.head()"
   ]
  },
  {
   "cell_type": "code",
   "execution_count": 89,
   "id": "c41f13e2",
   "metadata": {},
   "outputs": [
    {
     "data": {
      "text/plain": [
       "0"
      ]
     },
     "execution_count": 89,
     "metadata": {},
     "output_type": "execute_result"
    }
   ],
   "source": [
    "# check that no 2 stations have the same coordinates\n",
    "start_stations_coords.duplicated(subset=['start_lat', 'start_lng']).sum()"
   ]
  },
  {
   "cell_type": "code",
   "execution_count": 92,
   "id": "8144f47a",
   "metadata": {},
   "outputs": [
    {
     "data": {
      "text/plain": [
       "0"
      ]
     },
     "execution_count": 92,
     "metadata": {},
     "output_type": "execute_result"
    }
   ],
   "source": [
    "# get the average coordinates of each end station\n",
    "end_stations_coords = df1.groupby('end_station_name')[['end_lat', 'end_lng']] \\\n",
    "                         .mean().reset_index().rename(columns={'end_station_name': 'station_name',\n",
    "                                                               'end_lat': 'lat',\n",
    "                                                               'end_lng': 'lng'})\n",
    "\n",
    "# check dataframe\n",
    "end_stations_coords.head()"
   ]
  },
  {
   "cell_type": "code",
   "execution_count": null,
   "id": "96302873",
   "metadata": {},
   "outputs": [],
   "source": [
    "# check that no 2 stations have the same coordinates\n",
    "end_stations_coords.duplicated(subset=['end_lat', 'end_lng']).sum()"
   ]
  },
  {
   "cell_type": "code",
   "execution_count": 95,
   "id": "89f345ef",
   "metadata": {},
   "outputs": [],
   "source": [
    "# concat start and end stations into a long dataframe and get average coordinates again\n",
    "stations = pd.concat([start_stations_coords, end_stations_coords], ignore_index=True) \\\n",
    "             .groupby('station_name')[['lat', 'lng']].mean().reset_index()\n",
    "\n",
    "# check dataframe\n",
    "stations.head()"
   ]
  },
  {
   "cell_type": "code",
   "execution_count": 99,
   "id": "52b49ea6",
   "metadata": {},
   "outputs": [
    {
     "data": {
      "text/plain": [
       "0"
      ]
     },
     "execution_count": 99,
     "metadata": {},
     "output_type": "execute_result"
    }
   ],
   "source": [
    "# check that no 2 stations have the same coordinates\n",
    "stations.duplicated(subset=['lat', 'lng']).sum()"
   ]
  },
  {
   "cell_type": "code",
   "execution_count": null,
   "id": "c6550e92",
   "metadata": {},
   "outputs": [],
   "source": [
    "# summarize main features of the data at this point"
   ]
  },
  {
   "cell_type": "code",
   "execution_count": 83,
   "id": "7911952b",
   "metadata": {},
   "outputs": [],
   "source": [
    "# create a copy so we can work without having to restart the entire notebook\n",
    "df_clean = df1.copy()"
   ]
  },
  {
   "cell_type": "markdown",
   "id": "0f61b3b0",
   "metadata": {},
   "source": [
    "## 3. Data Exploration and Visualization"
   ]
  },
  {
   "cell_type": "code",
   "execution_count": 108,
   "id": "fa2a868f",
   "metadata": {},
   "outputs": [],
   "source": [
    "# groupby start station\n",
    "# groupby end station\n",
    "start_count = df_clean.groupby('start_station_name')[['ride_id']].count() \\\n",
    "                      .sort_values(by='ride_id', ascending=False).reset_index()"
   ]
  },
  {
   "cell_type": "code",
   "execution_count": 109,
   "id": "85062bbb",
   "metadata": {},
   "outputs": [],
   "source": [
    "end_count = df_clean.groupby('end_station_name')[['ride_id']].count().sort_values(by='ride_id', ascending=False).reset_index()"
   ]
  },
  {
   "cell_type": "code",
   "execution_count": 116,
   "id": "9ea63968",
   "metadata": {},
   "outputs": [],
   "source": [
    "ride_count_diff = start_count.merge(end_count, \n",
    "                                    left_on='start_station_name', \n",
    "                                    right_on='end_station_name', \n",
    "                                    suffixes=('_start', '_end')).drop(columns=['end_station_name']) \\\n",
    "                             .rename(columns={'start_station_name' : 'station_name',\n",
    "                                              'ride_id_start': 'start_count',\n",
    "                                              'ride_id_end': 'end_count'})"
   ]
  },
  {
   "cell_type": "code",
   "execution_count": 117,
   "id": "c0e46624",
   "metadata": {},
   "outputs": [
    {
     "data": {
      "text/html": [
       "<div>\n",
       "<style scoped>\n",
       "    .dataframe tbody tr th:only-of-type {\n",
       "        vertical-align: middle;\n",
       "    }\n",
       "\n",
       "    .dataframe tbody tr th {\n",
       "        vertical-align: top;\n",
       "    }\n",
       "\n",
       "    .dataframe thead th {\n",
       "        text-align: right;\n",
       "    }\n",
       "</style>\n",
       "<table border=\"1\" class=\"dataframe\">\n",
       "  <thead>\n",
       "    <tr style=\"text-align: right;\">\n",
       "      <th></th>\n",
       "      <th>station_name</th>\n",
       "      <th>start_count</th>\n",
       "      <th>end_count</th>\n",
       "    </tr>\n",
       "  </thead>\n",
       "  <tbody>\n",
       "    <tr>\n",
       "      <th>0</th>\n",
       "      <td>Howard St at Grace St</td>\n",
       "      <td>35740</td>\n",
       "      <td>13991</td>\n",
       "    </tr>\n",
       "    <tr>\n",
       "      <th>1</th>\n",
       "      <td>Market St at 10th St</td>\n",
       "      <td>30934</td>\n",
       "      <td>30900</td>\n",
       "    </tr>\n",
       "    <tr>\n",
       "      <th>2</th>\n",
       "      <td>Market St at Steuart St</td>\n",
       "      <td>28825</td>\n",
       "      <td>30129</td>\n",
       "    </tr>\n",
       "    <tr>\n",
       "      <th>3</th>\n",
       "      <td>Powell St BART Station (Market St at 4th St)</td>\n",
       "      <td>26315</td>\n",
       "      <td>27451</td>\n",
       "    </tr>\n",
       "    <tr>\n",
       "      <th>4</th>\n",
       "      <td>Powell St BART Station (Market St at 5th St)</td>\n",
       "      <td>21831</td>\n",
       "      <td>22639</td>\n",
       "    </tr>\n",
       "    <tr>\n",
       "      <th>...</th>\n",
       "      <td>...</td>\n",
       "      <td>...</td>\n",
       "      <td>...</td>\n",
       "    </tr>\n",
       "    <tr>\n",
       "      <th>520</th>\n",
       "      <td>West at Brockhurst</td>\n",
       "      <td>10</td>\n",
       "      <td>10</td>\n",
       "    </tr>\n",
       "    <tr>\n",
       "      <th>521</th>\n",
       "      <td>Battery Street at California St</td>\n",
       "      <td>8</td>\n",
       "      <td>11</td>\n",
       "    </tr>\n",
       "    <tr>\n",
       "      <th>522</th>\n",
       "      <td>Berry St at 4th St*</td>\n",
       "      <td>3</td>\n",
       "      <td>3</td>\n",
       "    </tr>\n",
       "    <tr>\n",
       "      <th>523</th>\n",
       "      <td>X-DEV-MTL-01</td>\n",
       "      <td>3</td>\n",
       "      <td>3</td>\n",
       "    </tr>\n",
       "    <tr>\n",
       "      <th>524</th>\n",
       "      <td>Hardly Strictly Bluegrass(Temporary Station)</td>\n",
       "      <td>2</td>\n",
       "      <td>5</td>\n",
       "    </tr>\n",
       "  </tbody>\n",
       "</table>\n",
       "<p>525 rows × 3 columns</p>\n",
       "</div>"
      ],
      "text/plain": [
       "                                     station_name  start_count  end_count\n",
       "0                           Howard St at Grace St        35740      13991\n",
       "1                            Market St at 10th St        30934      30900\n",
       "2                         Market St at Steuart St        28825      30129\n",
       "3    Powell St BART Station (Market St at 4th St)        26315      27451\n",
       "4    Powell St BART Station (Market St at 5th St)        21831      22639\n",
       "..                                            ...          ...        ...\n",
       "520                            West at Brockhurst           10         10\n",
       "521               Battery Street at California St            8         11\n",
       "522                           Berry St at 4th St*            3          3\n",
       "523                                  X-DEV-MTL-01            3          3\n",
       "524  Hardly Strictly Bluegrass(Temporary Station)            2          5\n",
       "\n",
       "[525 rows x 3 columns]"
      ]
     },
     "execution_count": 117,
     "metadata": {},
     "output_type": "execute_result"
    }
   ],
   "source": [
    "ride_count_diff"
   ]
  },
  {
   "cell_type": "code",
   "execution_count": null,
   "id": "691874a2",
   "metadata": {},
   "outputs": [],
   "source": [
    "# now we have 2 extra tables: stations and ride_count_diff"
   ]
  },
  {
   "cell_type": "code",
   "execution_count": 50,
   "id": "1a7c8c98",
   "metadata": {},
   "outputs": [
    {
     "data": {
      "text/plain": [
       "'\\nexplore by\\n- ride duration\\n- customer/member\\n- station\\n- time series\\n'"
      ]
     },
     "execution_count": 50,
     "metadata": {},
     "output_type": "execute_result"
    }
   ],
   "source": [
    "'''\n",
    "explore by\n",
    "- ride duration\n",
    "- customer/member\n",
    "- station\n",
    "- time series\n",
    "'''"
   ]
  },
  {
   "cell_type": "code",
   "execution_count": 102,
   "id": "6232512a",
   "metadata": {},
   "outputs": [
    {
     "data": {
      "text/plain": [
       "member    0.589057\n",
       "casual    0.410943\n",
       "Name: member_casual, dtype: float64"
      ]
     },
     "execution_count": 102,
     "metadata": {},
     "output_type": "execute_result"
    }
   ],
   "source": [
    "# groupby `member_casual`\n",
    "df_clean['member_casual'].value_counts(normalize=True)"
   ]
  },
  {
   "cell_type": "code",
   "execution_count": 118,
   "id": "4fd321a3",
   "metadata": {},
   "outputs": [
    {
     "data": {
      "text/plain": [
       "count    2.459430e+06\n",
       "mean     1.434708e+01\n",
       "std      5.113678e+01\n",
       "min     -3.810000e+02\n",
       "25%      5.000000e+00\n",
       "50%      9.000000e+00\n",
       "75%      1.600000e+01\n",
       "max      2.454000e+04\n",
       "Name: ride_duration_m, dtype: float64"
      ]
     },
     "execution_count": 118,
     "metadata": {},
     "output_type": "execute_result"
    }
   ],
   "source": [
    "df_clean['ride_duration_m'].describe() #why are there negative ride durations?????"
   ]
  },
  {
   "cell_type": "code",
   "execution_count": null,
   "id": "558d0474",
   "metadata": {},
   "outputs": [],
   "source": []
  }
 ],
 "metadata": {
  "kernelspec": {
   "display_name": "Python 3 (ipykernel)",
   "language": "python",
   "name": "python3"
  },
  "language_info": {
   "codemirror_mode": {
    "name": "ipython",
    "version": 3
   },
   "file_extension": ".py",
   "mimetype": "text/x-python",
   "name": "python",
   "nbconvert_exporter": "python",
   "pygments_lexer": "ipython3",
   "version": "3.9.12"
  }
 },
 "nbformat": 4,
 "nbformat_minor": 5
}
