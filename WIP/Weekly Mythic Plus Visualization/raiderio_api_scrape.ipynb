{
 "cells": [
  {
   "cell_type": "code",
   "execution_count": 1,
   "id": "99bbd378",
   "metadata": {},
   "outputs": [],
   "source": [
    "# import libraries\n",
    "import pandas as pd\n",
    "import datetime as dt\n",
    "import requests\n",
    "import json"
   ]
  },
  {
   "cell_type": "code",
   "execution_count": 2,
   "id": "abfd1b1e",
   "metadata": {},
   "outputs": [],
   "source": [
    "# get start date of us week\n",
    "today = dt.datetime.today()\n",
    "week_start = (today - dt.timedelta(days=8)).date()"
   ]
  },
  {
   "cell_type": "code",
   "execution_count": 3,
   "id": "0da78f24",
   "metadata": {
    "scrolled": true
   },
   "outputs": [],
   "source": [
    "# get season week for file name later\n",
    "week = today.strftime('%d%m%Y')"
   ]
  },
  {
   "cell_type": "code",
   "execution_count": 4,
   "id": "64abfc6f",
   "metadata": {},
   "outputs": [
    {
     "name": "stdout",
     "output_type": "stream",
     "text": [
      "2023-08-29\n",
      "06092023\n"
     ]
    }
   ],
   "source": [
    "print(week_start)\n",
    "print(week)"
   ]
  },
  {
   "cell_type": "markdown",
   "id": "81443232",
   "metadata": {},
   "source": [
    "***"
   ]
  },
  {
   "cell_type": "code",
   "execution_count": 5,
   "id": "4089cd9a",
   "metadata": {},
   "outputs": [],
   "source": [
    "# get current week affixes"
   ]
  },
  {
   "cell_type": "code",
   "execution_count": 6,
   "id": "2a17a3de",
   "metadata": {},
   "outputs": [],
   "source": [
    "# url for current eu week affixes\n",
    "affix_url = 'https://raider.io/api/v1/mythic-plus/affixes?region=eu&locale=en'"
   ]
  },
  {
   "cell_type": "code",
   "execution_count": 7,
   "id": "8981a045",
   "metadata": {},
   "outputs": [],
   "source": [
    "affix_data = requests.get(affix_url).json()\n",
    "affixes = affix_data['leaderboard_url'].split('/')[-1]"
   ]
  },
  {
   "cell_type": "code",
   "execution_count": 8,
   "id": "d29a13eb",
   "metadata": {},
   "outputs": [
    {
     "data": {
      "text/plain": [
       "'tyrannical-afflicted-bolstering'"
      ]
     },
     "execution_count": 8,
     "metadata": {},
     "output_type": "execute_result"
    }
   ],
   "source": [
    "affixes"
   ]
  },
  {
   "cell_type": "markdown",
   "id": "6123e827",
   "metadata": {},
   "source": [
    "***"
   ]
  },
  {
   "cell_type": "code",
   "execution_count": 9,
   "id": "28ff2456",
   "metadata": {},
   "outputs": [],
   "source": [
    "# get m+ runs urls"
   ]
  },
  {
   "cell_type": "code",
   "execution_count": 10,
   "id": "17d23d24",
   "metadata": {},
   "outputs": [],
   "source": [
    "# list of available regions\n",
    "region_list = ['us', 'eu']"
   ]
  },
  {
   "cell_type": "code",
   "execution_count": 11,
   "id": "061541bb",
   "metadata": {},
   "outputs": [],
   "source": [
    "# list of 10.1 dungeons\n",
    "dungeon_list = ['brackenhide-hollow',\n",
    "                'freehold',\n",
    "                'halls-of-infusion',\n",
    "                'neltharions-lair',\n",
    "                'neltharus',\n",
    "                'the-underrot',\n",
    "                'the-vortex-pinnacle',\n",
    "                'uldaman-legacy-of-tyr']"
   ]
  },
  {
   "cell_type": "code",
   "execution_count": 12,
   "id": "5eb7e421",
   "metadata": {},
   "outputs": [],
   "source": [
    "url_list = []\n",
    "\n",
    "# iterate over fields and append new urls to list\n",
    "for region in region_list:\n",
    "    for dungeon in dungeon_list:\n",
    "        url_list.append('https://raider.io/api/v1/mythic-plus/runs?season=season-df-2&region=' +region+  \\\n",
    "                                                                                    '&dungeon='+dungeon+ \\\n",
    "                                                                                    '&affixes='+affixes+ \\\n",
    "                                                                                    '&page=')"
   ]
  },
  {
   "cell_type": "code",
   "execution_count": 13,
   "id": "5fbe573a",
   "metadata": {},
   "outputs": [
    {
     "data": {
      "text/plain": [
       "16"
      ]
     },
     "execution_count": 13,
     "metadata": {},
     "output_type": "execute_result"
    }
   ],
   "source": [
    "len(url_list)"
   ]
  },
  {
   "cell_type": "markdown",
   "id": "0466dab7",
   "metadata": {},
   "source": [
    "***"
   ]
  },
  {
   "cell_type": "code",
   "execution_count": 14,
   "id": "9620c24b",
   "metadata": {},
   "outputs": [],
   "source": [
    "# get data"
   ]
  },
  {
   "cell_type": "code",
   "execution_count": 15,
   "id": "c8918307",
   "metadata": {},
   "outputs": [],
   "source": [
    "def get_leaderboard(url):\n",
    "    runs_list = []\n",
    "    \n",
    "    for page in range(100): # iterate over 100 url pages\n",
    "        page_url = url + str(page) # create full url\n",
    "        response = requests.get(page_url) # get weekly leaderboard data\n",
    "    \n",
    "        # check if page exists\n",
    "        if response.status_code != 200: break  \n",
    "        else:\n",
    "            runs_data = response.json()\n",
    "    \n",
    "            for i,j in enumerate(runs_data['rankings']): # iterate over rank (1 rank = 1 dungeon) \n",
    "                for k,l in enumerate(runs_data['rankings'][i]['run']['roster']): # iterate over characters in team\n",
    "                    \n",
    "                    region = runs_data['rankings'][i]['run']['roster'][k]['character']['region']['slug']\n",
    "                    keystone_run_id = runs_data['rankings'][i]['run']['keystone_run_id']\n",
    "                    dungeon_name = runs_data['rankings'][i]['run']['dungeon']['name']\n",
    "                    mythic_keystone_level = runs_data['rankings'][i]['run']['mythic_level']\n",
    "                    player_spec = runs_data['rankings'][i]['run']['roster'][k]['character']['spec']['name']\n",
    "                    player_class = runs_data['rankings'][i]['run']['roster'][k]['character']['class']['name']\n",
    "                    player_role = runs_data['rankings'][i]['run']['roster'][k]['role']\n",
    "                    completion_date = runs_data['rankings'][0]['run']['completed_at'][:10]\n",
    "                    completion_time = runs_data['rankings'][i]['run']['clear_time_ms']\n",
    "                    affix_1 = runs_data['rankings'][i]['run']['weekly_modifiers'][0]['name']\n",
    "                    affix_2 = runs_data['rankings'][i]['run']['weekly_modifiers'][1]['name']\n",
    "                    affix_3 = runs_data['rankings'][i]['run']['weekly_modifiers'][2]['name']\n",
    "                    \n",
    "                    # consolidate into 'row' and append to list\n",
    "                    char_list = [region,\n",
    "                                 keystone_run_id,\n",
    "                                 dungeon_name,\n",
    "                                 mythic_keystone_level,\n",
    "                                 player_spec,\n",
    "                                 player_class,\n",
    "                                 player_role,\n",
    "                                 completion_date,\n",
    "                                 completion_time,\n",
    "                                 affix_1,\n",
    "                                 affix_2,\n",
    "                                 affix_3]\n",
    "                    \n",
    "                    runs_list.append(char_list)\n",
    "    \n",
    "    # create dataframe\n",
    "    runs_df = pd.DataFrame(runs_list, columns=['region',\n",
    "                                               'keystone_run_id',\n",
    "                                               'dungeon_name',\n",
    "                                               'mythic_keystone_level',\n",
    "                                               'player_spec',\n",
    "                                               'player_class',\n",
    "                                               'player_role',\n",
    "                                               'completion_date',\n",
    "                                               'completion_time_ms',\n",
    "                                               'affix_1',\n",
    "                                               'affix_2',\n",
    "                                               'affix_3'])\n",
    "    \n",
    "    return runs_df"
   ]
  },
  {
   "cell_type": "code",
   "execution_count": 16,
   "id": "01869eca",
   "metadata": {},
   "outputs": [
    {
     "name": "stdout",
     "output_type": "stream",
     "text": [
      "0\n",
      "1\n",
      "2\n",
      "3\n",
      "4\n",
      "5\n",
      "6\n",
      "7\n",
      "8\n",
      "9\n",
      "10\n",
      "11\n",
      "12\n",
      "13\n",
      "14\n",
      "15\n"
     ]
    }
   ],
   "source": [
    "leaderboard_list = []\n",
    "\n",
    "# iterate through urls and append new dataframes to list\n",
    "for idx,url in enumerate(url_list):\n",
    "    leaderboard_list.append(get_leaderboard(url))\n",
    "    print(idx)"
   ]
  },
  {
   "cell_type": "code",
   "execution_count": 17,
   "id": "d125c752",
   "metadata": {},
   "outputs": [],
   "source": [
    "# consolidate dataframes\n",
    "leaderboard_df = pd.concat(leaderboard_list)"
   ]
  },
  {
   "cell_type": "markdown",
   "id": "6cd1de3d",
   "metadata": {},
   "source": [
    "***"
   ]
  },
  {
   "cell_type": "code",
   "execution_count": 18,
   "id": "48c3b3aa",
   "metadata": {},
   "outputs": [],
   "source": [
    "# simple data cleaning/filtering"
   ]
  },
  {
   "cell_type": "code",
   "execution_count": 19,
   "id": "18e2e8df",
   "metadata": {},
   "outputs": [],
   "source": [
    "# get completion time in minutes\n",
    "leaderboard_df['completion_time_min'] = round((leaderboard_df['completion_time_ms'] / 60000),3)"
   ]
  },
  {
   "cell_type": "code",
   "execution_count": 20,
   "id": "d95dc5f4",
   "metadata": {},
   "outputs": [],
   "source": [
    "# get runs only completed within the week\n",
    "leaderboard_df['completion_date'] = pd.to_datetime(leaderboard_df['completion_date'], \n",
    "                                                   format='%Y-%m-%d', \n",
    "                                                   errors='coerce'\n",
    "                                                  ).dt.date\n",
    "\n",
    "leaderboard_df = leaderboard_df[leaderboard_df['completion_date']>=week_start]"
   ]
  },
  {
   "cell_type": "code",
   "execution_count": 21,
   "id": "d6ba2b1e",
   "metadata": {},
   "outputs": [],
   "source": [
    "# get runs only keystone level 25 and above\n",
    "leaderboard_df = leaderboard_df[leaderboard_df['mythic_keystone_level']>=25]"
   ]
  },
  {
   "cell_type": "markdown",
   "id": "9f860f02",
   "metadata": {},
   "source": [
    "***"
   ]
  },
  {
   "cell_type": "code",
   "execution_count": 22,
   "id": "01eebfdf",
   "metadata": {},
   "outputs": [],
   "source": [
    "# save data"
   ]
  },
  {
   "cell_type": "code",
   "execution_count": 23,
   "id": "e2d2da98",
   "metadata": {},
   "outputs": [],
   "source": [
    "leaderboard_df.to_excel('data_dfs2/leaderboard_' + week + '.xlsx')"
   ]
  }
 ],
 "metadata": {
  "kernelspec": {
   "display_name": "Python 3 (ipykernel)",
   "language": "python",
   "name": "python3"
  },
  "language_info": {
   "codemirror_mode": {
    "name": "ipython",
    "version": 3
   },
   "file_extension": ".py",
   "mimetype": "text/x-python",
   "name": "python",
   "nbconvert_exporter": "python",
   "pygments_lexer": "ipython3",
   "version": "3.9.12"
  }
 },
 "nbformat": 4,
 "nbformat_minor": 5
}
