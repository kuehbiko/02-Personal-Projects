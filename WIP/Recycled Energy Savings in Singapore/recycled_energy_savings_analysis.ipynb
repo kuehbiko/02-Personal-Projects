{
 "cells": [
  {
   "cell_type": "markdown",
   "id": "c3b26f65",
   "metadata": {},
   "source": [
    "# Annual Recyled Energy Saved in Singapore"
   ]
  },
  {
   "cell_type": "markdown",
   "id": "17f1b86d",
   "metadata": {},
   "source": [
    "## Project Goals\n",
    "\n"
   ]
  },
  {
   "cell_type": "markdown",
   "id": "e8f857ea",
   "metadata": {},
   "source": [
    "## Data"
   ]
  },
  {
   "cell_type": "markdown",
   "id": "1689d445",
   "metadata": {},
   "source": [
    "## Table of Contents\n",
    "1. Data Acquisition\n",
    "2. Data Cleaning and Pre-processing\n",
    "3. Data Exploration and Visualization\n",
    "4. Conclusions"
   ]
  },
  {
   "cell_type": "code",
   "execution_count": null,
   "id": "8ded1320",
   "metadata": {},
   "outputs": [],
   "source": []
  }
 ],
 "metadata": {
  "kernelspec": {
   "display_name": "Python 3 (ipykernel)",
   "language": "python",
   "name": "python3"
  },
  "language_info": {
   "codemirror_mode": {
    "name": "ipython",
    "version": 3
   },
   "file_extension": ".py",
   "mimetype": "text/x-python",
   "name": "python",
   "nbconvert_exporter": "python",
   "pygments_lexer": "ipython3",
   "version": "3.9.12"
  }
 },
 "nbformat": 4,
 "nbformat_minor": 5
}
