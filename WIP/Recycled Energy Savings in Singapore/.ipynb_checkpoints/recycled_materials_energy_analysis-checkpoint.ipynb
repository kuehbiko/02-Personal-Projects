{
 "cells": [
  {
   "cell_type": "markdown",
   "id": "817c555e",
   "metadata": {},
   "source": [
    "# Annual Recyled Energy Saved in Singapore"
   ]
  },
  {
   "cell_type": "markdown",
   "id": "3d94cf76",
   "metadata": {},
   "source": [
    "## Project Goals\n",
    "The goal of this project is to analyze the total garbage collection and recycling rate, to determine the amount of energy saved from recycling.\n",
    "\n",
    "In this analysis, we will answer the following questions:\n",
    "1. How much energy was saved per year? In which year was this amount the highest? The lowest? \n",
    "2. What is the trend for recycled energy savings in Singapore from 2003 to 2022?\n",
    "3. What is the greatest source of recycled energy savings in 2022 and how has this changed over time?\n",
    "\n",
    "Articles on renewable energy in Singapore that may be important for context: \\\n",
    "https://www.straitstimes.com/asia/se-asia/singapore-to-start-imports-of-renewable-energy-from-indonesia-within-5-years\n",
    "https://www.nccs.gov.sg/singapores-climate-action/singapore-approach-to-alternative-energy/\n",
    "https://www.trade.gov/market-intelligence/singapore-renewable-energy-strategy\n",
    "\n",
    "For more information about how recycling can save energy, please refer here: https://greentumble.com/how-does-recycling-save-energy"
   ]
  },
  {
   "cell_type": "markdown",
   "id": "8da98b48",
   "metadata": {},
   "source": [
    "## Data\n",
    "- Recycled energy data for 2003 to 2016 a csv file is taken from the reference for this project, [kingabzpro](https://github.com/kingabzpro/Annual-Recycled-Energy-Saved-in-Singapore/tree/main/Data)\n",
    "- Recycled energy data for 2017 to 2021 is taken from the Waste and Recycling Statistics [document](https://www.nea.gov.sg/docs/default-source/default-document-library/waste-and-recycling-statistics-2017-to-2021.pdf) on the NEA website. The data has been extracted to an Excel file.\n",
    "- Recycled energy data for 2022 is taken from the [Waste Statistics and Overall Recycling NEA webpage](https://www.nea.gov.sg/our-services/waste-management/waste-statistics-and-overall-recycling)\n",
    "\n",
    "**Data Dictionary**\n",
    "\n",
    "|Variable|Description|\n",
    "|-----|-----|"
   ]
  },
  {
   "cell_type": "markdown",
   "id": "f69c1e7d",
   "metadata": {},
   "source": [
    "## Table of Contents\n",
    "1. Data Acquisition\n",
    "2. Data Cleaning and Pre-processing\n",
    "3. Data Exploration and Visualization\n",
    "4. Conclusions"
   ]
  },
  {
   "cell_type": "markdown",
   "id": "406bcf64",
   "metadata": {},
   "source": [
    "***"
   ]
  },
  {
   "cell_type": "markdown",
   "id": "9998cca9",
   "metadata": {},
   "source": [
    "## 1. Data Acquisition"
   ]
  },
  {
   "cell_type": "markdown",
   "id": "d125199f",
   "metadata": {},
   "source": [
    "#### Import Libraries"
   ]
  },
  {
   "cell_type": "code",
   "execution_count": 48,
   "id": "93b1ec2e",
   "metadata": {},
   "outputs": [],
   "source": [
    "import pandas as pd\n",
    "\n",
    "import requests\n",
    "from bs4 import BeautifulSoup\n",
    "\n",
    "import sqlite3"
   ]
  },
  {
   "cell_type": "markdown",
   "id": "4cc3e181",
   "metadata": {},
   "source": [
    "#### 2003-2016: Import Data from `.csv`"
   ]
  },
  {
   "cell_type": "code",
   "execution_count": 49,
   "id": "e7e8456a",
   "metadata": {},
   "outputs": [],
   "source": [
    "# 2003 - 2016\n",
    "df1 = pd.read_csv('data/waste-and-recycling-statistics-2003-to-2016.csv')"
   ]
  },
  {
   "cell_type": "code",
   "execution_count": 51,
   "id": "af55cedb",
   "metadata": {},
   "outputs": [
    {
     "data": {
      "text/html": [
       "<div>\n",
       "<style scoped>\n",
       "    .dataframe tbody tr th:only-of-type {\n",
       "        vertical-align: middle;\n",
       "    }\n",
       "\n",
       "    .dataframe tbody tr th {\n",
       "        vertical-align: top;\n",
       "    }\n",
       "\n",
       "    .dataframe thead th {\n",
       "        text-align: right;\n",
       "    }\n",
       "</style>\n",
       "<table border=\"1\" class=\"dataframe\">\n",
       "  <thead>\n",
       "    <tr style=\"text-align: right;\">\n",
       "      <th></th>\n",
       "      <th>waste_type</th>\n",
       "      <th>waste_disposed_of_tonne</th>\n",
       "      <th>total_waste_recycled_tonne</th>\n",
       "      <th>total_waste_generated_tonne</th>\n",
       "      <th>recycling_rate</th>\n",
       "      <th>year</th>\n",
       "    </tr>\n",
       "  </thead>\n",
       "  <tbody>\n",
       "    <tr>\n",
       "      <th>0</th>\n",
       "      <td>Food</td>\n",
       "      <td>679900</td>\n",
       "      <td>111100.0</td>\n",
       "      <td>791000</td>\n",
       "      <td>0.14</td>\n",
       "      <td>2016</td>\n",
       "    </tr>\n",
       "    <tr>\n",
       "      <th>1</th>\n",
       "      <td>Paper/Cardboard</td>\n",
       "      <td>576000</td>\n",
       "      <td>607100.0</td>\n",
       "      <td>1183100</td>\n",
       "      <td>0.51</td>\n",
       "      <td>2016</td>\n",
       "    </tr>\n",
       "    <tr>\n",
       "      <th>2</th>\n",
       "      <td>Plastics</td>\n",
       "      <td>762700</td>\n",
       "      <td>59500.0</td>\n",
       "      <td>822200</td>\n",
       "      <td>0.07</td>\n",
       "      <td>2016</td>\n",
       "    </tr>\n",
       "    <tr>\n",
       "      <th>3</th>\n",
       "      <td>C&amp;D</td>\n",
       "      <td>9700</td>\n",
       "      <td>1585700.0</td>\n",
       "      <td>1595400</td>\n",
       "      <td>0.99</td>\n",
       "      <td>2016</td>\n",
       "    </tr>\n",
       "    <tr>\n",
       "      <th>4</th>\n",
       "      <td>Horticultural waste</td>\n",
       "      <td>111500</td>\n",
       "      <td>209000.0</td>\n",
       "      <td>320500</td>\n",
       "      <td>0.65</td>\n",
       "      <td>2016</td>\n",
       "    </tr>\n",
       "    <tr>\n",
       "      <th>...</th>\n",
       "      <td>...</td>\n",
       "      <td>...</td>\n",
       "      <td>...</td>\n",
       "      <td>...</td>\n",
       "      <td>...</td>\n",
       "      <td>...</td>\n",
       "    </tr>\n",
       "    <tr>\n",
       "      <th>220</th>\n",
       "      <td>Ash and sludge</td>\n",
       "      <td>214800</td>\n",
       "      <td>28600.0</td>\n",
       "      <td>243400</td>\n",
       "      <td>0.12</td>\n",
       "      <td>2017</td>\n",
       "    </tr>\n",
       "    <tr>\n",
       "      <th>221</th>\n",
       "      <td>Plastic</td>\n",
       "      <td>763400</td>\n",
       "      <td>51800.0</td>\n",
       "      <td>815200</td>\n",
       "      <td>0.06</td>\n",
       "      <td>2017</td>\n",
       "    </tr>\n",
       "    <tr>\n",
       "      <th>222</th>\n",
       "      <td>Textile/Leather</td>\n",
       "      <td>141200</td>\n",
       "      <td>9600.0</td>\n",
       "      <td>150800</td>\n",
       "      <td>0.06</td>\n",
       "      <td>2017</td>\n",
       "    </tr>\n",
       "    <tr>\n",
       "      <th>223</th>\n",
       "      <td>Others (stones, ceramic, rubber, etc.)</td>\n",
       "      <td>319300</td>\n",
       "      <td>7100.0</td>\n",
       "      <td>326400</td>\n",
       "      <td>0.02</td>\n",
       "      <td>2017</td>\n",
       "    </tr>\n",
       "    <tr>\n",
       "      <th>224</th>\n",
       "      <td>Total</td>\n",
       "      <td>2980000</td>\n",
       "      <td>4724300.0</td>\n",
       "      <td>7704300</td>\n",
       "      <td>0.61</td>\n",
       "      <td>2017</td>\n",
       "    </tr>\n",
       "  </tbody>\n",
       "</table>\n",
       "<p>225 rows × 6 columns</p>\n",
       "</div>"
      ],
      "text/plain": [
       "                                 waste_type  waste_disposed_of_tonne  \\\n",
       "0                                      Food                   679900   \n",
       "1                           Paper/Cardboard                   576000   \n",
       "2                                  Plastics                   762700   \n",
       "3                                       C&D                     9700   \n",
       "4                       Horticultural waste                   111500   \n",
       "..                                      ...                      ...   \n",
       "220                          Ash and sludge                   214800   \n",
       "221                                 Plastic                   763400   \n",
       "222                         Textile/Leather                   141200   \n",
       "223  Others (stones, ceramic, rubber, etc.)                   319300   \n",
       "224                                   Total                  2980000   \n",
       "\n",
       "     total_waste_recycled_tonne  total_waste_generated_tonne  recycling_rate  \\\n",
       "0                      111100.0                       791000            0.14   \n",
       "1                      607100.0                      1183100            0.51   \n",
       "2                       59500.0                       822200            0.07   \n",
       "3                     1585700.0                      1595400            0.99   \n",
       "4                      209000.0                       320500            0.65   \n",
       "..                          ...                          ...             ...   \n",
       "220                     28600.0                       243400            0.12   \n",
       "221                     51800.0                       815200            0.06   \n",
       "222                      9600.0                       150800            0.06   \n",
       "223                      7100.0                       326400            0.02   \n",
       "224                   4724300.0                      7704300            0.61   \n",
       "\n",
       "     year  \n",
       "0    2016  \n",
       "1    2016  \n",
       "2    2016  \n",
       "3    2016  \n",
       "4    2016  \n",
       "..    ...  \n",
       "220  2017  \n",
       "221  2017  \n",
       "222  2017  \n",
       "223  2017  \n",
       "224  2017  \n",
       "\n",
       "[225 rows x 6 columns]"
      ]
     },
     "execution_count": 51,
     "metadata": {},
     "output_type": "execute_result"
    }
   ],
   "source": [
    "df1"
   ]
  },
  {
   "cell_type": "markdown",
   "id": "655fe56a",
   "metadata": {},
   "source": [
    "#### 2017-2021: Import Data from `.xlsx`"
   ]
  },
  {
   "cell_type": "code",
   "execution_count": 52,
   "id": "4ec99ffc",
   "metadata": {},
   "outputs": [],
   "source": [
    "# 2017-2021\n",
    "sheets = ['2017', '2018', '2019', '2020', '2021']\n",
    "\n",
    "df2_list = []\n",
    "for sheet in sheets:\n",
    "    df = pd.read_excel('data/waste-and-recycling-statistics-2017-to-2021.xlsx', sheet_name=sheet)\n",
    "    df = df.rename(columns=df.iloc[0]).loc[1:]\n",
    "    df['year'] = sheet\n",
    "    df2_list.append(df)\n",
    "    \n",
    "df2 = pd.concat(df2_list, axis=0)"
   ]
  },
  {
   "cell_type": "code",
   "execution_count": 53,
   "id": "63ba56bc",
   "metadata": {},
   "outputs": [
    {
     "data": {
      "text/html": [
       "<div>\n",
       "<style scoped>\n",
       "    .dataframe tbody tr th:only-of-type {\n",
       "        vertical-align: middle;\n",
       "    }\n",
       "\n",
       "    .dataframe tbody tr th {\n",
       "        vertical-align: top;\n",
       "    }\n",
       "\n",
       "    .dataframe thead th {\n",
       "        text-align: right;\n",
       "    }\n",
       "</style>\n",
       "<table border=\"1\" class=\"dataframe\">\n",
       "  <thead>\n",
       "    <tr style=\"text-align: right;\">\n",
       "      <th></th>\n",
       "      <th>Waste Type</th>\n",
       "      <th>Total Generated\\n('000 tonnes)</th>\n",
       "      <th>Total Recycled\\n('000 tonnes)</th>\n",
       "      <th>Recycling Rate</th>\n",
       "      <th>Total Disposed\\n('000 tonnes)</th>\n",
       "      <th>year</th>\n",
       "    </tr>\n",
       "  </thead>\n",
       "  <tbody>\n",
       "    <tr>\n",
       "      <th>1</th>\n",
       "      <td>C&amp;D</td>\n",
       "      <td>1,609</td>\n",
       "      <td>1,600</td>\n",
       "      <td>99%</td>\n",
       "      <td>9</td>\n",
       "      <td>2017</td>\n",
       "    </tr>\n",
       "    <tr>\n",
       "      <th>2</th>\n",
       "      <td>Ferrous metal</td>\n",
       "      <td>1,379</td>\n",
       "      <td>1,371</td>\n",
       "      <td>99%</td>\n",
       "      <td>8</td>\n",
       "      <td>2017</td>\n",
       "    </tr>\n",
       "    <tr>\n",
       "      <th>3</th>\n",
       "      <td>Paper/Cardboard</td>\n",
       "      <td>1,145</td>\n",
       "      <td>569</td>\n",
       "      <td>50%</td>\n",
       "      <td>576</td>\n",
       "      <td>2017</td>\n",
       "    </tr>\n",
       "    <tr>\n",
       "      <th>4</th>\n",
       "      <td>Plastics</td>\n",
       "      <td>815</td>\n",
       "      <td>52</td>\n",
       "      <td>6%</td>\n",
       "      <td>763</td>\n",
       "      <td>2017</td>\n",
       "    </tr>\n",
       "    <tr>\n",
       "      <th>5</th>\n",
       "      <td>Food</td>\n",
       "      <td>810</td>\n",
       "      <td>133</td>\n",
       "      <td>16%</td>\n",
       "      <td>677</td>\n",
       "      <td>2017</td>\n",
       "    </tr>\n",
       "    <tr>\n",
       "      <th>...</th>\n",
       "      <td>...</td>\n",
       "      <td>...</td>\n",
       "      <td>...</td>\n",
       "      <td>...</td>\n",
       "      <td>...</td>\n",
       "      <td>...</td>\n",
       "    </tr>\n",
       "    <tr>\n",
       "      <th>11</th>\n",
       "      <td>Non-ferrous metal</td>\n",
       "      <td>88</td>\n",
       "      <td>87</td>\n",
       "      <td>98%</td>\n",
       "      <td>1</td>\n",
       "      <td>2021</td>\n",
       "    </tr>\n",
       "    <tr>\n",
       "      <th>12</th>\n",
       "      <td>Glass</td>\n",
       "      <td>74</td>\n",
       "      <td>9</td>\n",
       "      <td>13%</td>\n",
       "      <td>65</td>\n",
       "      <td>2021</td>\n",
       "    </tr>\n",
       "    <tr>\n",
       "      <th>13</th>\n",
       "      <td>Scrap tyres</td>\n",
       "      <td>27</td>\n",
       "      <td>26</td>\n",
       "      <td>95%</td>\n",
       "      <td>1</td>\n",
       "      <td>2021</td>\n",
       "    </tr>\n",
       "    <tr>\n",
       "      <th>14</th>\n",
       "      <td>Others (stones, ceramics, etc.)</td>\n",
       "      <td>233</td>\n",
       "      <td>18</td>\n",
       "      <td>8%</td>\n",
       "      <td>214</td>\n",
       "      <td>2021</td>\n",
       "    </tr>\n",
       "    <tr>\n",
       "      <th>15</th>\n",
       "      <td>Overall</td>\n",
       "      <td>6,944</td>\n",
       "      <td>3,826</td>\n",
       "      <td>55%</td>\n",
       "      <td>3,118</td>\n",
       "      <td>2021</td>\n",
       "    </tr>\n",
       "  </tbody>\n",
       "</table>\n",
       "<p>75 rows × 6 columns</p>\n",
       "</div>"
      ],
      "text/plain": [
       "                         Waste Type Total Generated\\n('000 tonnes)  \\\n",
       "1                               C&D                          1,609   \n",
       "2                     Ferrous metal                          1,379   \n",
       "3                   Paper/Cardboard                          1,145   \n",
       "4                          Plastics                            815   \n",
       "5                              Food                            810   \n",
       "..                              ...                            ...   \n",
       "11                Non-ferrous metal                             88   \n",
       "12                            Glass                             74   \n",
       "13                      Scrap tyres                             27   \n",
       "14  Others (stones, ceramics, etc.)                            233   \n",
       "15                          Overall                          6,944   \n",
       "\n",
       "   Total Recycled\\n('000 tonnes) Recycling Rate Total Disposed\\n('000 tonnes)  \\\n",
       "1                          1,600            99%                             9   \n",
       "2                          1,371            99%                             8   \n",
       "3                            569            50%                           576   \n",
       "4                             52             6%                           763   \n",
       "5                            133            16%                           677   \n",
       "..                           ...            ...                           ...   \n",
       "11                            87            98%                             1   \n",
       "12                             9            13%                            65   \n",
       "13                            26            95%                             1   \n",
       "14                            18             8%                           214   \n",
       "15                         3,826            55%                         3,118   \n",
       "\n",
       "    year  \n",
       "1   2017  \n",
       "2   2017  \n",
       "3   2017  \n",
       "4   2017  \n",
       "5   2017  \n",
       "..   ...  \n",
       "11  2021  \n",
       "12  2021  \n",
       "13  2021  \n",
       "14  2021  \n",
       "15  2021  \n",
       "\n",
       "[75 rows x 6 columns]"
      ]
     },
     "execution_count": 53,
     "metadata": {},
     "output_type": "execute_result"
    }
   ],
   "source": [
    "df2"
   ]
  },
  {
   "cell_type": "markdown",
   "id": "98266ecc",
   "metadata": {},
   "source": [
    "#### 2022: Scrape Data with BeautifulSoup"
   ]
  },
  {
   "cell_type": "code",
   "execution_count": 57,
   "id": "335602a8",
   "metadata": {},
   "outputs": [],
   "source": [
    "#2022\n",
    "url = 'https://www.nea.gov.sg/our-services/waste-management/waste-statistics-and-overall-recycling'\n",
    "response = requests.get(url)\n",
    "\n",
    "if response.status_code == 200:\n",
    "    soup = BeautifulSoup(response.content, \"html.parser\")\n",
    "    table = soup.find('table')\n",
    "    data = [(cell.text for cell in row.find_all('td')) for row in table.find_all('tr')]\n",
    "\n",
    "df3 = pd.DataFrame(data)"
   ]
  },
  {
   "cell_type": "code",
   "execution_count": 56,
   "id": "d6c8809b",
   "metadata": {},
   "outputs": [
    {
     "data": {
      "text/html": [
       "<div>\n",
       "<style scoped>\n",
       "    .dataframe tbody tr th:only-of-type {\n",
       "        vertical-align: middle;\n",
       "    }\n",
       "\n",
       "    .dataframe tbody tr th {\n",
       "        vertical-align: top;\n",
       "    }\n",
       "\n",
       "    .dataframe thead th {\n",
       "        text-align: right;\n",
       "    }\n",
       "</style>\n",
       "<table border=\"1\" class=\"dataframe\">\n",
       "  <thead>\n",
       "    <tr style=\"text-align: right;\">\n",
       "      <th></th>\n",
       "      <th>0</th>\n",
       "      <th>1</th>\n",
       "      <th>2</th>\n",
       "      <th>3</th>\n",
       "      <th>4</th>\n",
       "    </tr>\n",
       "  </thead>\n",
       "  <tbody>\n",
       "    <tr>\n",
       "      <th>0</th>\n",
       "      <td>None</td>\n",
       "      <td>None</td>\n",
       "      <td>None</td>\n",
       "      <td>None</td>\n",
       "      <td>None</td>\n",
       "    </tr>\n",
       "    <tr>\n",
       "      <th>1</th>\n",
       "      <td>Ferrous metal</td>\n",
       "      <td>1,338</td>\n",
       "      <td>1,331</td>\n",
       "      <td>99%</td>\n",
       "      <td>7</td>\n",
       "    </tr>\n",
       "    <tr>\n",
       "      <th>2</th>\n",
       "      <td>Paper/Cardboard</td>\n",
       "      <td>1,064</td>\n",
       "      <td>394</td>\n",
       "      <td>37%</td>\n",
       "      <td>671</td>\n",
       "    </tr>\n",
       "    <tr>\n",
       "      <th>3</th>\n",
       "      <td>Construction &amp; Demolition</td>\n",
       "      <td>1,424</td>\n",
       "      <td>1,419</td>\n",
       "      <td>99%</td>\n",
       "      <td>5</td>\n",
       "    </tr>\n",
       "    <tr>\n",
       "      <th>4</th>\n",
       "      <td>Plastics</td>\n",
       "      <td>1,001</td>\n",
       "      <td>57</td>\n",
       "      <td>6%</td>\n",
       "      <td>944</td>\n",
       "    </tr>\n",
       "    <tr>\n",
       "      <th>5</th>\n",
       "      <td>Food</td>\n",
       "      <td>813</td>\n",
       "      <td>146</td>\n",
       "      <td>18%</td>\n",
       "      <td>667</td>\n",
       "    </tr>\n",
       "    <tr>\n",
       "      <th>6</th>\n",
       "      <td>Horticultural</td>\n",
       "      <td>221</td>\n",
       "      <td>188</td>\n",
       "      <td>85%</td>\n",
       "      <td>32</td>\n",
       "    </tr>\n",
       "    <tr>\n",
       "      <th>7</th>\n",
       "      <td>Wood</td>\n",
       "      <td>419</td>\n",
       "      <td>298</td>\n",
       "      <td>71%</td>\n",
       "      <td>121</td>\n",
       "    </tr>\n",
       "    <tr>\n",
       "      <th>8</th>\n",
       "      <td>Ash &amp; sludge</td>\n",
       "      <td>241</td>\n",
       "      <td>27</td>\n",
       "      <td>11%</td>\n",
       "      <td>213</td>\n",
       "    </tr>\n",
       "    <tr>\n",
       "      <th>9</th>\n",
       "      <td>Textile/Leather</td>\n",
       "      <td>254</td>\n",
       "      <td>5</td>\n",
       "      <td>2%</td>\n",
       "      <td>249</td>\n",
       "    </tr>\n",
       "    <tr>\n",
       "      <th>10</th>\n",
       "      <td>Used slag</td>\n",
       "      <td>169</td>\n",
       "      <td>166</td>\n",
       "      <td>99%</td>\n",
       "      <td>2</td>\n",
       "    </tr>\n",
       "    <tr>\n",
       "      <th>11</th>\n",
       "      <td>Non-ferrous metal</td>\n",
       "      <td>92</td>\n",
       "      <td>91</td>\n",
       "      <td>98%</td>\n",
       "      <td>2</td>\n",
       "    </tr>\n",
       "    <tr>\n",
       "      <th>12</th>\n",
       "      <td>Glass</td>\n",
       "      <td>73</td>\n",
       "      <td>11</td>\n",
       "      <td>14%</td>\n",
       "      <td>63</td>\n",
       "    </tr>\n",
       "    <tr>\n",
       "      <th>13</th>\n",
       "      <td>Scrap tyres</td>\n",
       "      <td>26</td>\n",
       "      <td>25</td>\n",
       "      <td>95%</td>\n",
       "      <td>1</td>\n",
       "    </tr>\n",
       "    <tr>\n",
       "      <th>14</th>\n",
       "      <td>Others (stones, ceramics, etc.)</td>\n",
       "      <td>249</td>\n",
       "      <td>30</td>\n",
       "      <td>N.A.1</td>\n",
       "      <td>219</td>\n",
       "    </tr>\n",
       "    <tr>\n",
       "      <th>15</th>\n",
       "      <td>Overall</td>\n",
       "      <td>7,385</td>\n",
       "      <td>4,188</td>\n",
       "      <td>57%</td>\n",
       "      <td>3,197</td>\n",
       "    </tr>\n",
       "  </tbody>\n",
       "</table>\n",
       "</div>"
      ],
      "text/plain": [
       "                                  0      1      2      3      4\n",
       "0                              None   None   None   None   None\n",
       "1                     Ferrous metal  1,338  1,331   99%       7\n",
       "2                   Paper/Cardboard  1,064    394   37%     671\n",
       "3         Construction & Demolition  1,424  1,419   99%       5\n",
       "4                          Plastics  1,001     57    6%     944\n",
       "5                             Food     813    146   18%     667\n",
       "6                    Horticultural     221    188   85%      32\n",
       "7                             Wood     419    298   71%     121\n",
       "8                     Ash & sludge     241     27    11%    213\n",
       "9                   Textile/Leather    254      5     2%    249\n",
       "10                        Used slag    169    166    99%      2\n",
       "11                Non-ferrous metal     92     91   98%       2\n",
       "12                           Glass      73     11    14%     63\n",
       "13                      Scrap tyres     26     25   95%       1\n",
       "14  Others (stones, ceramics, etc.)    249     30  N.A.1    219\n",
       "15                          Overall  7,385  4,188  57%    3,197"
      ]
     },
     "execution_count": 56,
     "metadata": {},
     "output_type": "execute_result"
    }
   ],
   "source": [
    "df3"
   ]
  },
  {
   "cell_type": "markdown",
   "id": "93a7c905",
   "metadata": {},
   "source": [
    "#### Merge tables"
   ]
  },
  {
   "cell_type": "code",
   "execution_count": 58,
   "id": "8ed15b21",
   "metadata": {},
   "outputs": [],
   "source": [
    "# need to reorder the columns\n",
    "# need to convert numbers to their proper units and dimensions"
   ]
  },
  {
   "cell_type": "markdown",
   "id": "2dca64bb",
   "metadata": {},
   "source": [
    "***"
   ]
  },
  {
   "cell_type": "markdown",
   "id": "27c65157",
   "metadata": {},
   "source": [
    "## 2. Data Cleaning and Pre-processing"
   ]
  },
  {
   "cell_type": "code",
   "execution_count": null,
   "id": "4749b94e",
   "metadata": {},
   "outputs": [],
   "source": [
    "# check duplicates"
   ]
  },
  {
   "cell_type": "code",
   "execution_count": null,
   "id": "fb43344c",
   "metadata": {},
   "outputs": [],
   "source": [
    "# check missing values"
   ]
  },
  {
   "cell_type": "markdown",
   "id": "a0733de4",
   "metadata": {},
   "source": [
    "***"
   ]
  },
  {
   "cell_type": "markdown",
   "id": "6c3304b0",
   "metadata": {},
   "source": [
    "## 3. Data Exploration and Visualization"
   ]
  },
  {
   "cell_type": "code",
   "execution_count": null,
   "id": "1f0c7a41",
   "metadata": {},
   "outputs": [],
   "source": [
    "# recycling rate of individual waste types per year"
   ]
  },
  {
   "cell_type": "code",
   "execution_count": null,
   "id": "d21df6e0",
   "metadata": {},
   "outputs": [],
   "source": [
    "# total energy saved per year"
   ]
  },
  {
   "cell_type": "markdown",
   "id": "48b169e8",
   "metadata": {},
   "source": [
    "***"
   ]
  },
  {
   "cell_type": "markdown",
   "id": "f3f4d000",
   "metadata": {},
   "source": [
    "## 4. Conclusions"
   ]
  },
  {
   "cell_type": "markdown",
   "id": "76d9499a",
   "metadata": {},
   "source": [
    "***"
   ]
  },
  {
   "cell_type": "code",
   "execution_count": null,
   "id": "f49f297a",
   "metadata": {},
   "outputs": [],
   "source": [
    "import requests\n",
    "import json\n",
    "import pandas as pd\n",
    "from bs4 import BeautifulSoup"
   ]
  },
  {
   "cell_type": "code",
   "execution_count": null,
   "id": "792f0d5e",
   "metadata": {},
   "outputs": [],
   "source": [
    "url = 'https://www.nea.gov.sg/our-services/waste-management/waste-statistics-and-overall-recycling'"
   ]
  },
  {
   "cell_type": "code",
   "execution_count": null,
   "id": "c0e132fe",
   "metadata": {},
   "outputs": [],
   "source": [
    "response = requests.get(url)"
   ]
  },
  {
   "cell_type": "code",
   "execution_count": null,
   "id": "f67836d2",
   "metadata": {},
   "outputs": [],
   "source": [
    "print(response.status_code)"
   ]
  },
  {
   "cell_type": "code",
   "execution_count": null,
   "id": "eaf9dd28",
   "metadata": {},
   "outputs": [],
   "source": [
    "print(response.text)"
   ]
  },
  {
   "cell_type": "code",
   "execution_count": null,
   "id": "d808fbe2",
   "metadata": {},
   "outputs": [],
   "source": [
    "soup = BeautifulSoup(response.content, \"html.parser\")"
   ]
  },
  {
   "cell_type": "code",
   "execution_count": null,
   "id": "71d5f256",
   "metadata": {},
   "outputs": [],
   "source": [
    "table = soup.find('table')"
   ]
  },
  {
   "cell_type": "code",
   "execution_count": null,
   "id": "6548a766",
   "metadata": {},
   "outputs": [],
   "source": [
    "data = []\n",
    "for row in table.find_all('tr'):\n",
    "    row_data = []\n",
    "    for cell in row.find_all('td'):\n",
    "        row_data.append(cell.text)\n",
    "    data.append(row_data)"
   ]
  },
  {
   "cell_type": "code",
   "execution_count": null,
   "id": "53cae5ae",
   "metadata": {},
   "outputs": [],
   "source": [
    "data"
   ]
  },
  {
   "cell_type": "code",
   "execution_count": null,
   "id": "0893003e",
   "metadata": {},
   "outputs": [],
   "source": [
    "df = pd.DataFrame(data)"
   ]
  },
  {
   "cell_type": "code",
   "execution_count": null,
   "id": "a9139de5",
   "metadata": {},
   "outputs": [],
   "source": [
    "df"
   ]
  },
  {
   "cell_type": "code",
   "execution_count": null,
   "id": "e3c4fe73",
   "metadata": {},
   "outputs": [],
   "source": []
  }
 ],
 "metadata": {
  "kernelspec": {
   "display_name": "Python 3 (ipykernel)",
   "language": "python",
   "name": "python3"
  },
  "language_info": {
   "codemirror_mode": {
    "name": "ipython",
    "version": 3
   },
   "file_extension": ".py",
   "mimetype": "text/x-python",
   "name": "python",
   "nbconvert_exporter": "python",
   "pygments_lexer": "ipython3",
   "version": "3.9.12"
  }
 },
 "nbformat": 4,
 "nbformat_minor": 5
}
