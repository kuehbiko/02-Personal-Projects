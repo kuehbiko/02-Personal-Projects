{
 "cells": [
  {
   "cell_type": "markdown",
   "id": "a59d257f",
   "metadata": {},
   "source": [
    "# Annual Recyled Energy Saved in Singapore"
   ]
  },
  {
   "cell_type": "markdown",
   "id": "4e5e4731",
   "metadata": {},
   "source": [
    "## Project Goals\n",
    "The goal of this project is to analyze the total garbage collection and recycling rate, to determine the amount of energy saved from recycling.\n",
    "\n",
    "In this analysis, we will answer the following questions:\n",
    "1. How much energy was saved per year? In which year was this amount the highest? The lowest? \n",
    "2. What is the trend for recycled energy savings in Singapore from 2003 to 2022?\n",
    "3. What is the greatest source of recycled energy savings in 2022 and how has this changed over time?"
   ]
  },
  {
   "cell_type": "markdown",
   "id": "f394d5d7",
   "metadata": {},
   "source": [
    "## Data\n",
    "- Recycled energy data for 2003 to 2016 is taken from the reference for this project, [kingabzpro](https://github.com/kingabzpro/Annual-Recycled-Energy-Saved-in-Singapore/tree/main/Data)\n",
    "- Recycled energy data for 2017 to 2021 is taken from the Waste and Recycling Statistics [document](https://www.nea.gov.sg/docs/default-source/default-document-library/waste-and-recycling-statistics-2017-to-2021.pdf) on the NEA website\n",
    "- Recycled energy data for 2022 is taken from the [Waste Statistics and Overall Recycling NEA webpage](https://www.nea.gov.sg/our-services/waste-management/waste-statistics-and-overall-recycling)\n",
    "\n",
    "**Data Dictionary**\n",
    "\n",
    "|Variable|Description|\n",
    "|-----|-----|"
   ]
  },
  {
   "cell_type": "markdown",
   "id": "80190d14",
   "metadata": {},
   "source": [
    "## Table of Contents\n",
    "1. Data Acquisition\n",
    "2. Data Cleaning and Pre-processing\n",
    "3. Data Exploration and Visualization\n",
    "4. Conclusions"
   ]
  },
  {
   "cell_type": "code",
   "execution_count": null,
   "id": "c28e3a99",
   "metadata": {},
   "outputs": [],
   "source": []
  }
 ],
 "metadata": {
  "kernelspec": {
   "display_name": "Python 3 (ipykernel)",
   "language": "python",
   "name": "python3"
  },
  "language_info": {
   "codemirror_mode": {
    "name": "ipython",
    "version": 3
   },
   "file_extension": ".py",
   "mimetype": "text/x-python",
   "name": "python",
   "nbconvert_exporter": "python",
   "pygments_lexer": "ipython3",
   "version": "3.9.12"
  }
 },
 "nbformat": 4,
 "nbformat_minor": 5
}
